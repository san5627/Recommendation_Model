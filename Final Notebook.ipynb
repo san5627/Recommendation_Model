{
 "cells": [
  {
   "cell_type": "markdown",
   "metadata": {},
   "source": [
    "# Problem Statement"
   ]
  },
  {
   "cell_type": "markdown",
   "metadata": {},
   "source": [
    "This data set is populated by crawling TripAdvisor.com. Reviews on destinations in 10 categories mentioned across East Asia are considered. Each traveler rating is mapped as Excellent (4), Very Good (3), Average (2), Poor (1), and Terrible (0) and average rating is used against each category per user.\n",
    "\n",
    "Task 1:  Analysis we aim at comparing key clustering algorithms with the aim of finding an optimal option that can be adopted in tourism domain .\n",
    "\n",
    "Task 2 : Recommendation of most higjly rated place."
   ]
  },
  {
   "cell_type": "markdown",
   "metadata": {},
   "source": [
    "## Data Description\n",
    "Attribute 1 : Unique user id\n",
    "\n",
    "Attribute 2 : Average user feedback on art galleries\n",
    "\n",
    "Attribute 3 : Average user feedback on dance clubs\n",
    "\n",
    "Attribute 4 : Average user feedback on juice bars\n",
    "\n",
    "Attribute 5 : Average user feedback on restaurants\n",
    "\n",
    "Attribute 6 : Average user feedback on museums\n",
    "\n",
    "Attribute 7 : Average user feedback on resorts\n",
    "\n",
    "Attribute 8 : Average user feedback on parks/picnic spots\n",
    "\n",
    "Attribute 9 : Average user feedback on beaches\n",
    "\n",
    "Attribute 10 : Average user feedback on theaters\n",
    "\n",
    "Attribute 11 : Average user feedback on religious institutions"
   ]
  },
  {
   "cell_type": "markdown",
   "metadata": {},
   "source": [
    "### Task 1: Analysis we aim at comparing key clustering algorithms with the aim of finding an optimal option that can be adopted in tourism domain ."
   ]
  },
  {
   "cell_type": "code",
   "execution_count": 1,
   "metadata": {},
   "outputs": [],
   "source": [
    "import pandas as pd\n",
    "import numpy as np\n",
    "import seaborn as sns\n",
    "import matplotlib.pyplot as plt"
   ]
  },
  {
   "cell_type": "code",
   "execution_count": 2,
   "metadata": {},
   "outputs": [],
   "source": [
    "tour=pd.read_csv('tripadvisor_review.csv')"
   ]
  },
  {
   "cell_type": "code",
   "execution_count": 3,
   "metadata": {},
   "outputs": [
    {
     "data": {
      "text/html": [
       "<div>\n",
       "<style scoped>\n",
       "    .dataframe tbody tr th:only-of-type {\n",
       "        vertical-align: middle;\n",
       "    }\n",
       "\n",
       "    .dataframe tbody tr th {\n",
       "        vertical-align: top;\n",
       "    }\n",
       "\n",
       "    .dataframe thead th {\n",
       "        text-align: right;\n",
       "    }\n",
       "</style>\n",
       "<table border=\"1\" class=\"dataframe\">\n",
       "  <thead>\n",
       "    <tr style=\"text-align: right;\">\n",
       "      <th></th>\n",
       "      <th>User ID</th>\n",
       "      <th>Category 1</th>\n",
       "      <th>Category 2</th>\n",
       "      <th>Category 3</th>\n",
       "      <th>Category 4</th>\n",
       "      <th>Category 5</th>\n",
       "      <th>Category 6</th>\n",
       "      <th>Category 7</th>\n",
       "      <th>Category 8</th>\n",
       "      <th>Category 9</th>\n",
       "      <th>Category 10</th>\n",
       "    </tr>\n",
       "  </thead>\n",
       "  <tbody>\n",
       "    <tr>\n",
       "      <td>0</td>\n",
       "      <td>User 1</td>\n",
       "      <td>0.93</td>\n",
       "      <td>1.8</td>\n",
       "      <td>2.29</td>\n",
       "      <td>0.62</td>\n",
       "      <td>0.80</td>\n",
       "      <td>2.42</td>\n",
       "      <td>3.19</td>\n",
       "      <td>2.79</td>\n",
       "      <td>1.82</td>\n",
       "      <td>2.42</td>\n",
       "    </tr>\n",
       "    <tr>\n",
       "      <td>1</td>\n",
       "      <td>User 2</td>\n",
       "      <td>1.02</td>\n",
       "      <td>2.2</td>\n",
       "      <td>2.66</td>\n",
       "      <td>0.64</td>\n",
       "      <td>1.42</td>\n",
       "      <td>3.18</td>\n",
       "      <td>3.21</td>\n",
       "      <td>2.63</td>\n",
       "      <td>1.86</td>\n",
       "      <td>2.32</td>\n",
       "    </tr>\n",
       "  </tbody>\n",
       "</table>\n",
       "</div>"
      ],
      "text/plain": [
       "  User ID  Category 1  Category 2  Category 3  Category 4  Category 5  \\\n",
       "0  User 1        0.93         1.8        2.29        0.62        0.80   \n",
       "1  User 2        1.02         2.2        2.66        0.64        1.42   \n",
       "\n",
       "   Category 6  Category 7  Category 8  Category 9  Category 10  \n",
       "0        2.42        3.19        2.79        1.82         2.42  \n",
       "1        3.18        3.21        2.63        1.86         2.32  "
      ]
     },
     "execution_count": 3,
     "metadata": {},
     "output_type": "execute_result"
    }
   ],
   "source": [
    "tour.head(2)"
   ]
  },
  {
   "cell_type": "markdown",
   "metadata": {},
   "source": [
    "### 1.Data Preparation"
   ]
  },
  {
   "cell_type": "code",
   "execution_count": 4,
   "metadata": {},
   "outputs": [
    {
     "data": {
      "text/plain": [
       "Index(['User ID', 'Category 1', 'Category 2', 'Category 3', 'Category 4',\n",
       "       'Category 5', 'Category 6', 'Category 7', 'Category 8', 'Category 9',\n",
       "       'Category 10'],\n",
       "      dtype='object')"
      ]
     },
     "execution_count": 4,
     "metadata": {},
     "output_type": "execute_result"
    }
   ],
   "source": [
    "tour.columns"
   ]
  },
  {
   "cell_type": "markdown",
   "metadata": {},
   "source": [
    "We can rename the columns as given attribute as category 1= art galleries"
   ]
  },
  {
   "cell_type": "code",
   "execution_count": 5,
   "metadata": {},
   "outputs": [],
   "source": [
    "df_trip=tour.rename(columns={\"Category 1\": \"art galleries\",\"Category 2\": \"dance clubs\",\"Category 3\": \"juice bars\",\"Category 4\": \"restaurants\",\"Category 5\": \"museums\",\"Category 6\": \"resorts\",\"Category 7\": \"parks/picnic spots\",\"Category 8\": \" beaches\",\"Category 9\": \"theaters\",\"Category 10\": \"religious institutions\"})"
   ]
  },
  {
   "cell_type": "code",
   "execution_count": 6,
   "metadata": {},
   "outputs": [
    {
     "data": {
      "text/html": [
       "<div>\n",
       "<style scoped>\n",
       "    .dataframe tbody tr th:only-of-type {\n",
       "        vertical-align: middle;\n",
       "    }\n",
       "\n",
       "    .dataframe tbody tr th {\n",
       "        vertical-align: top;\n",
       "    }\n",
       "\n",
       "    .dataframe thead th {\n",
       "        text-align: right;\n",
       "    }\n",
       "</style>\n",
       "<table border=\"1\" class=\"dataframe\">\n",
       "  <thead>\n",
       "    <tr style=\"text-align: right;\">\n",
       "      <th></th>\n",
       "      <th>User ID</th>\n",
       "      <th>art galleries</th>\n",
       "      <th>dance clubs</th>\n",
       "      <th>juice bars</th>\n",
       "      <th>restaurants</th>\n",
       "      <th>museums</th>\n",
       "      <th>resorts</th>\n",
       "      <th>parks/picnic spots</th>\n",
       "      <th>beaches</th>\n",
       "      <th>theaters</th>\n",
       "      <th>religious institutions</th>\n",
       "    </tr>\n",
       "  </thead>\n",
       "  <tbody>\n",
       "    <tr>\n",
       "      <td>0</td>\n",
       "      <td>User 1</td>\n",
       "      <td>0.93</td>\n",
       "      <td>1.8</td>\n",
       "      <td>2.29</td>\n",
       "      <td>0.62</td>\n",
       "      <td>0.80</td>\n",
       "      <td>2.42</td>\n",
       "      <td>3.19</td>\n",
       "      <td>2.79</td>\n",
       "      <td>1.82</td>\n",
       "      <td>2.42</td>\n",
       "    </tr>\n",
       "    <tr>\n",
       "      <td>1</td>\n",
       "      <td>User 2</td>\n",
       "      <td>1.02</td>\n",
       "      <td>2.2</td>\n",
       "      <td>2.66</td>\n",
       "      <td>0.64</td>\n",
       "      <td>1.42</td>\n",
       "      <td>3.18</td>\n",
       "      <td>3.21</td>\n",
       "      <td>2.63</td>\n",
       "      <td>1.86</td>\n",
       "      <td>2.32</td>\n",
       "    </tr>\n",
       "    <tr>\n",
       "      <td>2</td>\n",
       "      <td>User 3</td>\n",
       "      <td>1.22</td>\n",
       "      <td>0.8</td>\n",
       "      <td>0.54</td>\n",
       "      <td>0.53</td>\n",
       "      <td>0.24</td>\n",
       "      <td>1.54</td>\n",
       "      <td>3.18</td>\n",
       "      <td>2.80</td>\n",
       "      <td>1.31</td>\n",
       "      <td>2.50</td>\n",
       "    </tr>\n",
       "    <tr>\n",
       "      <td>3</td>\n",
       "      <td>User 4</td>\n",
       "      <td>0.45</td>\n",
       "      <td>1.8</td>\n",
       "      <td>0.29</td>\n",
       "      <td>0.57</td>\n",
       "      <td>0.46</td>\n",
       "      <td>1.52</td>\n",
       "      <td>3.18</td>\n",
       "      <td>2.96</td>\n",
       "      <td>1.57</td>\n",
       "      <td>2.86</td>\n",
       "    </tr>\n",
       "    <tr>\n",
       "      <td>4</td>\n",
       "      <td>User 5</td>\n",
       "      <td>0.51</td>\n",
       "      <td>1.2</td>\n",
       "      <td>1.18</td>\n",
       "      <td>0.57</td>\n",
       "      <td>1.54</td>\n",
       "      <td>2.02</td>\n",
       "      <td>3.18</td>\n",
       "      <td>2.78</td>\n",
       "      <td>1.18</td>\n",
       "      <td>2.54</td>\n",
       "    </tr>\n",
       "  </tbody>\n",
       "</table>\n",
       "</div>"
      ],
      "text/plain": [
       "  User ID  art galleries  dance clubs  juice bars  restaurants  museums  \\\n",
       "0  User 1           0.93          1.8        2.29         0.62     0.80   \n",
       "1  User 2           1.02          2.2        2.66         0.64     1.42   \n",
       "2  User 3           1.22          0.8        0.54         0.53     0.24   \n",
       "3  User 4           0.45          1.8        0.29         0.57     0.46   \n",
       "4  User 5           0.51          1.2        1.18         0.57     1.54   \n",
       "\n",
       "   resorts  parks/picnic spots   beaches  theaters  religious institutions  \n",
       "0     2.42                3.19      2.79      1.82                    2.42  \n",
       "1     3.18                3.21      2.63      1.86                    2.32  \n",
       "2     1.54                3.18      2.80      1.31                    2.50  \n",
       "3     1.52                3.18      2.96      1.57                    2.86  \n",
       "4     2.02                3.18      2.78      1.18                    2.54  "
      ]
     },
     "execution_count": 6,
     "metadata": {},
     "output_type": "execute_result"
    }
   ],
   "source": [
    "df_trip.head()"
   ]
  },
  {
   "cell_type": "code",
   "execution_count": 7,
   "metadata": {},
   "outputs": [
    {
     "data": {
      "text/plain": [
       "(980, 11)"
      ]
     },
     "execution_count": 7,
     "metadata": {},
     "output_type": "execute_result"
    }
   ],
   "source": [
    "df_trip.shape"
   ]
  },
  {
   "cell_type": "code",
   "execution_count": 8,
   "metadata": {},
   "outputs": [
    {
     "name": "stdout",
     "output_type": "stream",
     "text": [
      "<class 'pandas.core.frame.DataFrame'>\n",
      "RangeIndex: 980 entries, 0 to 979\n",
      "Data columns (total 11 columns):\n",
      "User ID                   980 non-null object\n",
      "art galleries             980 non-null float64\n",
      "dance clubs               980 non-null float64\n",
      "juice bars                980 non-null float64\n",
      "restaurants               980 non-null float64\n",
      "museums                   980 non-null float64\n",
      "resorts                   980 non-null float64\n",
      "parks/picnic spots        980 non-null float64\n",
      " beaches                  980 non-null float64\n",
      "theaters                  980 non-null float64\n",
      "religious institutions    980 non-null float64\n",
      "dtypes: float64(10), object(1)\n",
      "memory usage: 84.3+ KB\n"
     ]
    }
   ],
   "source": [
    "df_trip.info()"
   ]
  },
  {
   "cell_type": "code",
   "execution_count": 9,
   "metadata": {},
   "outputs": [
    {
     "data": {
      "text/html": [
       "<div>\n",
       "<style scoped>\n",
       "    .dataframe tbody tr th:only-of-type {\n",
       "        vertical-align: middle;\n",
       "    }\n",
       "\n",
       "    .dataframe tbody tr th {\n",
       "        vertical-align: top;\n",
       "    }\n",
       "\n",
       "    .dataframe thead th {\n",
       "        text-align: right;\n",
       "    }\n",
       "</style>\n",
       "<table border=\"1\" class=\"dataframe\">\n",
       "  <thead>\n",
       "    <tr style=\"text-align: right;\">\n",
       "      <th></th>\n",
       "      <th>art galleries</th>\n",
       "      <th>dance clubs</th>\n",
       "      <th>juice bars</th>\n",
       "      <th>restaurants</th>\n",
       "      <th>museums</th>\n",
       "      <th>resorts</th>\n",
       "      <th>parks/picnic spots</th>\n",
       "      <th>beaches</th>\n",
       "      <th>theaters</th>\n",
       "      <th>religious institutions</th>\n",
       "    </tr>\n",
       "  </thead>\n",
       "  <tbody>\n",
       "    <tr>\n",
       "      <td>count</td>\n",
       "      <td>980.000000</td>\n",
       "      <td>980.000000</td>\n",
       "      <td>980.000000</td>\n",
       "      <td>980.000000</td>\n",
       "      <td>980.000000</td>\n",
       "      <td>980.000000</td>\n",
       "      <td>980.000000</td>\n",
       "      <td>980.000000</td>\n",
       "      <td>980.000000</td>\n",
       "      <td>980.000000</td>\n",
       "    </tr>\n",
       "    <tr>\n",
       "      <td>mean</td>\n",
       "      <td>0.893194</td>\n",
       "      <td>1.352612</td>\n",
       "      <td>1.013306</td>\n",
       "      <td>0.532500</td>\n",
       "      <td>0.939735</td>\n",
       "      <td>1.842898</td>\n",
       "      <td>3.180939</td>\n",
       "      <td>2.835061</td>\n",
       "      <td>1.569439</td>\n",
       "      <td>2.799224</td>\n",
       "    </tr>\n",
       "    <tr>\n",
       "      <td>std</td>\n",
       "      <td>0.326912</td>\n",
       "      <td>0.478280</td>\n",
       "      <td>0.788607</td>\n",
       "      <td>0.279731</td>\n",
       "      <td>0.437430</td>\n",
       "      <td>0.539538</td>\n",
       "      <td>0.007824</td>\n",
       "      <td>0.137505</td>\n",
       "      <td>0.364629</td>\n",
       "      <td>0.321380</td>\n",
       "    </tr>\n",
       "    <tr>\n",
       "      <td>min</td>\n",
       "      <td>0.340000</td>\n",
       "      <td>0.000000</td>\n",
       "      <td>0.130000</td>\n",
       "      <td>0.150000</td>\n",
       "      <td>0.060000</td>\n",
       "      <td>0.140000</td>\n",
       "      <td>3.160000</td>\n",
       "      <td>2.420000</td>\n",
       "      <td>0.740000</td>\n",
       "      <td>2.140000</td>\n",
       "    </tr>\n",
       "    <tr>\n",
       "      <td>25%</td>\n",
       "      <td>0.670000</td>\n",
       "      <td>1.080000</td>\n",
       "      <td>0.270000</td>\n",
       "      <td>0.410000</td>\n",
       "      <td>0.640000</td>\n",
       "      <td>1.460000</td>\n",
       "      <td>3.180000</td>\n",
       "      <td>2.740000</td>\n",
       "      <td>1.310000</td>\n",
       "      <td>2.540000</td>\n",
       "    </tr>\n",
       "    <tr>\n",
       "      <td>50%</td>\n",
       "      <td>0.830000</td>\n",
       "      <td>1.280000</td>\n",
       "      <td>0.820000</td>\n",
       "      <td>0.500000</td>\n",
       "      <td>0.900000</td>\n",
       "      <td>1.800000</td>\n",
       "      <td>3.180000</td>\n",
       "      <td>2.820000</td>\n",
       "      <td>1.540000</td>\n",
       "      <td>2.780000</td>\n",
       "    </tr>\n",
       "    <tr>\n",
       "      <td>75%</td>\n",
       "      <td>1.020000</td>\n",
       "      <td>1.560000</td>\n",
       "      <td>1.572500</td>\n",
       "      <td>0.580000</td>\n",
       "      <td>1.200000</td>\n",
       "      <td>2.200000</td>\n",
       "      <td>3.180000</td>\n",
       "      <td>2.910000</td>\n",
       "      <td>1.760000</td>\n",
       "      <td>3.040000</td>\n",
       "    </tr>\n",
       "    <tr>\n",
       "      <td>max</td>\n",
       "      <td>3.220000</td>\n",
       "      <td>3.640000</td>\n",
       "      <td>3.620000</td>\n",
       "      <td>3.440000</td>\n",
       "      <td>3.300000</td>\n",
       "      <td>3.760000</td>\n",
       "      <td>3.210000</td>\n",
       "      <td>3.390000</td>\n",
       "      <td>3.170000</td>\n",
       "      <td>3.660000</td>\n",
       "    </tr>\n",
       "  </tbody>\n",
       "</table>\n",
       "</div>"
      ],
      "text/plain": [
       "       art galleries  dance clubs  juice bars  restaurants     museums  \\\n",
       "count     980.000000   980.000000  980.000000   980.000000  980.000000   \n",
       "mean        0.893194     1.352612    1.013306     0.532500    0.939735   \n",
       "std         0.326912     0.478280    0.788607     0.279731    0.437430   \n",
       "min         0.340000     0.000000    0.130000     0.150000    0.060000   \n",
       "25%         0.670000     1.080000    0.270000     0.410000    0.640000   \n",
       "50%         0.830000     1.280000    0.820000     0.500000    0.900000   \n",
       "75%         1.020000     1.560000    1.572500     0.580000    1.200000   \n",
       "max         3.220000     3.640000    3.620000     3.440000    3.300000   \n",
       "\n",
       "          resorts  parks/picnic spots     beaches    theaters  \\\n",
       "count  980.000000          980.000000  980.000000  980.000000   \n",
       "mean     1.842898            3.180939    2.835061    1.569439   \n",
       "std      0.539538            0.007824    0.137505    0.364629   \n",
       "min      0.140000            3.160000    2.420000    0.740000   \n",
       "25%      1.460000            3.180000    2.740000    1.310000   \n",
       "50%      1.800000            3.180000    2.820000    1.540000   \n",
       "75%      2.200000            3.180000    2.910000    1.760000   \n",
       "max      3.760000            3.210000    3.390000    3.170000   \n",
       "\n",
       "       religious institutions  \n",
       "count              980.000000  \n",
       "mean                 2.799224  \n",
       "std                  0.321380  \n",
       "min                  2.140000  \n",
       "25%                  2.540000  \n",
       "50%                  2.780000  \n",
       "75%                  3.040000  \n",
       "max                  3.660000  "
      ]
     },
     "execution_count": 9,
     "metadata": {},
     "output_type": "execute_result"
    }
   ],
   "source": [
    "df_trip.describe()"
   ]
  },
  {
   "cell_type": "markdown",
   "metadata": {},
   "source": [
    "### 1.1 Missing Value Treatment"
   ]
  },
  {
   "cell_type": "markdown",
   "metadata": {},
   "source": [
    "First run a check for the presence of missing values and their percentage for each column. Then choose the right approach to treat them."
   ]
  },
  {
   "cell_type": "code",
   "execution_count": 10,
   "metadata": {},
   "outputs": [
    {
     "data": {
      "text/plain": [
       "User ID                   0\n",
       "art galleries             0\n",
       "dance clubs               0\n",
       "juice bars                0\n",
       "restaurants               0\n",
       "museums                   0\n",
       "resorts                   0\n",
       "parks/picnic spots        0\n",
       " beaches                  0\n",
       "theaters                  0\n",
       "religious institutions    0\n",
       "dtype: int64"
      ]
     },
     "execution_count": 10,
     "metadata": {},
     "output_type": "execute_result"
    }
   ],
   "source": [
    "df_trip.isnull().sum()"
   ]
  },
  {
   "cell_type": "markdown",
   "metadata": {},
   "source": [
    "As we can see there are no missing value in the the given dataset"
   ]
  },
  {
   "cell_type": "code",
   "execution_count": 11,
   "metadata": {},
   "outputs": [
    {
     "data": {
      "text/plain": [
       "<matplotlib.axes._subplots.AxesSubplot at 0xb0e6b88>"
      ]
     },
     "execution_count": 11,
     "metadata": {},
     "output_type": "execute_result"
    },
    {
     "data": {
      "image/png": "[encoded data removed]",
      "text/plain": [
       "<Figure size 1080x720 with 1 Axes>"
      ]
     },
     "metadata": {
      "needs_background": "light"
     },
     "output_type": "display_data"
    }
   ],
   "source": [
    "df_trip.boxplot(figsize=(15,10))"
   ]
  },
  {
   "cell_type": "markdown",
   "metadata": {},
   "source": [
    "Outliers are present "
   ]
  },
  {
   "cell_type": "code",
   "execution_count": 12,
   "metadata": {},
   "outputs": [
    {
     "name": "stdout",
     "output_type": "stream",
     "text": [
      "[[0.11264465 0.93588703 1.6197497  ... 0.32787224 0.68751758 1.18059095]\n",
      " [0.38808847 1.77264397 2.08917107 ... 1.49205628 0.797274   1.49190812]\n",
      " [1.00018585 1.15600533 0.60048651 ... 0.25511074 0.71187679 0.93153721]\n",
      " ...\n",
      " [0.86671115 0.06822131 0.43555468 ... 0.18234924 0.62955947 0.68731207]\n",
      " [0.11264465 2.41114075 1.12065614 ... 1.05459631 1.23321978 1.05606408]\n",
      " [0.11264465 1.6580595  0.14805027 ... 0.25421978 0.62955947 1.24285439]]\n",
      "\n",
      "\n",
      "*******************************************************************************\n",
      "\n",
      "\n",
      "Below are the outlier points along with the respective column numbers in the second array\n",
      "\n",
      "\n",
      "(array([  1,  11,  25,  48,  52,  61,  75,  80,  82,  84,  88,  99, 123,\n",
      "       145, 157, 171, 180, 199, 226, 228, 234, 239, 239, 242, 247, 257,\n",
      "       258, 274, 286, 287, 293, 307, 322, 330, 358, 372, 377, 408, 422,\n",
      "       422, 425, 437, 446, 467, 470, 479, 483, 487, 501, 505, 507, 508,\n",
      "       536, 545, 592, 599, 601, 608, 612, 613, 629, 631, 641, 666, 666,\n",
      "       677, 694, 702, 728, 728, 746, 747, 747, 774, 795, 811, 812, 829,\n",
      "       831, 867, 869, 882, 903, 903, 915, 972], dtype=int64), array([6, 1, 1, 1, 4, 0, 1, 0, 3, 0, 3, 8, 0, 1, 0, 0, 7, 3, 3, 1, 4, 0,\n",
      "       5, 8, 3, 3, 0, 3, 3, 8, 7, 8, 0, 8, 7, 3, 1, 1, 1, 3, 0, 3, 1, 7,\n",
      "       7, 4, 1, 4, 0, 0, 4, 4, 5, 1, 3, 1, 3, 1, 7, 8, 8, 0, 1, 0, 3, 0,\n",
      "       3, 1, 1, 3, 8, 1, 3, 8, 0, 7, 1, 3, 8, 4, 0, 1, 1, 3, 2, 3],\n",
      "      dtype=int64))\n"
     ]
    }
   ],
   "source": [
    "from scipy import stats\n",
    "\n",
    "z = np.abs(stats.zscore(df_trip[['art galleries', 'dance clubs', 'juice bars', 'restaurants','museums', 'resorts', 'parks/picnic spots', ' beaches', 'theaters','religious institutions']]))\n",
    "print(z)\n",
    "\n",
    "print(\"\\n\")\n",
    "print(\"*******************************************************************************\")\n",
    "print(\"\\n\")\n",
    "\n",
    "# threshold = 3  # selecting 3 as the threshold to identify outliers\n",
    "print('Below are the outlier points along with the respective column numbers in the second array')\n",
    "print(\"\\n\")\n",
    "print(np.where(z > 3))"
   ]
  },
  {
   "cell_type": "code",
   "execution_count": 13,
   "metadata": {},
   "outputs": [],
   "source": [
    "# Removing the outliers\n",
    "\n",
    "data_outliers_removed = df_trip[(z<3).all(axis=1)]"
   ]
  },
  {
   "cell_type": "code",
   "execution_count": 14,
   "metadata": {},
   "outputs": [
    {
     "data": {
      "text/plain": [
       "(980, 11)"
      ]
     },
     "execution_count": 14,
     "metadata": {},
     "output_type": "execute_result"
    }
   ],
   "source": [
    "df_trip.shape"
   ]
  },
  {
   "cell_type": "code",
   "execution_count": 15,
   "metadata": {},
   "outputs": [
    {
     "data": {
      "text/plain": [
       "(900, 11)"
      ]
     },
     "execution_count": 15,
     "metadata": {},
     "output_type": "execute_result"
    }
   ],
   "source": [
    "data_outliers_removed.shape"
   ]
  },
  {
   "cell_type": "code",
   "execution_count": 16,
   "metadata": {},
   "outputs": [
    {
     "data": {
      "text/plain": [
       "<matplotlib.axes._subplots.AxesSubplot at 0xb5b2988>"
      ]
     },
     "execution_count": 16,
     "metadata": {},
     "output_type": "execute_result"
    },
    {
     "data": {
      "image/png": "[encoded data removed]",
      "text/plain": [
       "<Figure size 1080x720 with 1 Axes>"
      ]
     },
     "metadata": {
      "needs_background": "light"
     },
     "output_type": "display_data"
    }
   ],
   "source": [
    "data_outliers_removed.boxplot(figsize=(15,10))"
   ]
  },
  {
   "cell_type": "code",
   "execution_count": 17,
   "metadata": {},
   "outputs": [
    {
     "data": {
      "text/html": [
       "<div>\n",
       "<style scoped>\n",
       "    .dataframe tbody tr th:only-of-type {\n",
       "        vertical-align: middle;\n",
       "    }\n",
       "\n",
       "    .dataframe tbody tr th {\n",
       "        vertical-align: top;\n",
       "    }\n",
       "\n",
       "    .dataframe thead th {\n",
       "        text-align: right;\n",
       "    }\n",
       "</style>\n",
       "<table border=\"1\" class=\"dataframe\">\n",
       "  <thead>\n",
       "    <tr style=\"text-align: right;\">\n",
       "      <th></th>\n",
       "      <th>User ID</th>\n",
       "      <th>art galleries</th>\n",
       "      <th>dance clubs</th>\n",
       "      <th>juice bars</th>\n",
       "      <th>restaurants</th>\n",
       "      <th>museums</th>\n",
       "      <th>resorts</th>\n",
       "      <th>parks/picnic spots</th>\n",
       "      <th>beaches</th>\n",
       "      <th>theaters</th>\n",
       "      <th>religious institutions</th>\n",
       "    </tr>\n",
       "  </thead>\n",
       "  <tbody>\n",
       "    <tr>\n",
       "      <td>0</td>\n",
       "      <td>User 1</td>\n",
       "      <td>0.93</td>\n",
       "      <td>1.80</td>\n",
       "      <td>2.29</td>\n",
       "      <td>0.62</td>\n",
       "      <td>0.80</td>\n",
       "      <td>2.42</td>\n",
       "      <td>3.19</td>\n",
       "      <td>2.79</td>\n",
       "      <td>1.82</td>\n",
       "      <td>2.42</td>\n",
       "    </tr>\n",
       "    <tr>\n",
       "      <td>1</td>\n",
       "      <td>User 3</td>\n",
       "      <td>1.22</td>\n",
       "      <td>0.80</td>\n",
       "      <td>0.54</td>\n",
       "      <td>0.53</td>\n",
       "      <td>0.24</td>\n",
       "      <td>1.54</td>\n",
       "      <td>3.18</td>\n",
       "      <td>2.80</td>\n",
       "      <td>1.31</td>\n",
       "      <td>2.50</td>\n",
       "    </tr>\n",
       "    <tr>\n",
       "      <td>2</td>\n",
       "      <td>User 4</td>\n",
       "      <td>0.45</td>\n",
       "      <td>1.80</td>\n",
       "      <td>0.29</td>\n",
       "      <td>0.57</td>\n",
       "      <td>0.46</td>\n",
       "      <td>1.52</td>\n",
       "      <td>3.18</td>\n",
       "      <td>2.96</td>\n",
       "      <td>1.57</td>\n",
       "      <td>2.86</td>\n",
       "    </tr>\n",
       "    <tr>\n",
       "      <td>3</td>\n",
       "      <td>User 5</td>\n",
       "      <td>0.51</td>\n",
       "      <td>1.20</td>\n",
       "      <td>1.18</td>\n",
       "      <td>0.57</td>\n",
       "      <td>1.54</td>\n",
       "      <td>2.02</td>\n",
       "      <td>3.18</td>\n",
       "      <td>2.78</td>\n",
       "      <td>1.18</td>\n",
       "      <td>2.54</td>\n",
       "    </tr>\n",
       "    <tr>\n",
       "      <td>4</td>\n",
       "      <td>User 6</td>\n",
       "      <td>0.99</td>\n",
       "      <td>1.28</td>\n",
       "      <td>0.72</td>\n",
       "      <td>0.27</td>\n",
       "      <td>0.74</td>\n",
       "      <td>1.26</td>\n",
       "      <td>3.17</td>\n",
       "      <td>2.89</td>\n",
       "      <td>1.66</td>\n",
       "      <td>3.66</td>\n",
       "    </tr>\n",
       "    <tr>\n",
       "      <td>...</td>\n",
       "      <td>...</td>\n",
       "      <td>...</td>\n",
       "      <td>...</td>\n",
       "      <td>...</td>\n",
       "      <td>...</td>\n",
       "      <td>...</td>\n",
       "      <td>...</td>\n",
       "      <td>...</td>\n",
       "      <td>...</td>\n",
       "      <td>...</td>\n",
       "      <td>...</td>\n",
       "    </tr>\n",
       "    <tr>\n",
       "      <td>895</td>\n",
       "      <td>User 976</td>\n",
       "      <td>0.74</td>\n",
       "      <td>1.12</td>\n",
       "      <td>0.30</td>\n",
       "      <td>0.53</td>\n",
       "      <td>0.88</td>\n",
       "      <td>1.38</td>\n",
       "      <td>3.17</td>\n",
       "      <td>2.78</td>\n",
       "      <td>0.99</td>\n",
       "      <td>3.20</td>\n",
       "    </tr>\n",
       "    <tr>\n",
       "      <td>896</td>\n",
       "      <td>User 977</td>\n",
       "      <td>1.25</td>\n",
       "      <td>0.92</td>\n",
       "      <td>1.12</td>\n",
       "      <td>0.38</td>\n",
       "      <td>0.78</td>\n",
       "      <td>1.68</td>\n",
       "      <td>3.18</td>\n",
       "      <td>2.79</td>\n",
       "      <td>1.34</td>\n",
       "      <td>2.80</td>\n",
       "    </tr>\n",
       "    <tr>\n",
       "      <td>897</td>\n",
       "      <td>User 978</td>\n",
       "      <td>0.61</td>\n",
       "      <td>1.32</td>\n",
       "      <td>0.67</td>\n",
       "      <td>0.43</td>\n",
       "      <td>1.30</td>\n",
       "      <td>1.78</td>\n",
       "      <td>3.17</td>\n",
       "      <td>2.81</td>\n",
       "      <td>1.34</td>\n",
       "      <td>3.02</td>\n",
       "    </tr>\n",
       "    <tr>\n",
       "      <td>898</td>\n",
       "      <td>User 979</td>\n",
       "      <td>0.93</td>\n",
       "      <td>0.20</td>\n",
       "      <td>0.13</td>\n",
       "      <td>0.43</td>\n",
       "      <td>0.30</td>\n",
       "      <td>0.40</td>\n",
       "      <td>3.18</td>\n",
       "      <td>2.98</td>\n",
       "      <td>1.12</td>\n",
       "      <td>2.46</td>\n",
       "    </tr>\n",
       "    <tr>\n",
       "      <td>899</td>\n",
       "      <td>User 980</td>\n",
       "      <td>0.93</td>\n",
       "      <td>0.56</td>\n",
       "      <td>1.13</td>\n",
       "      <td>0.51</td>\n",
       "      <td>1.34</td>\n",
       "      <td>2.36</td>\n",
       "      <td>3.18</td>\n",
       "      <td>2.87</td>\n",
       "      <td>1.34</td>\n",
       "      <td>2.40</td>\n",
       "    </tr>\n",
       "  </tbody>\n",
       "</table>\n",
       "<p>900 rows × 11 columns</p>\n",
       "</div>"
      ],
      "text/plain": [
       "      User ID  art galleries  dance clubs  juice bars  restaurants  museums  \\\n",
       "0      User 1           0.93         1.80        2.29         0.62     0.80   \n",
       "1      User 3           1.22         0.80        0.54         0.53     0.24   \n",
       "2      User 4           0.45         1.80        0.29         0.57     0.46   \n",
       "3      User 5           0.51         1.20        1.18         0.57     1.54   \n",
       "4      User 6           0.99         1.28        0.72         0.27     0.74   \n",
       "..        ...            ...          ...         ...          ...      ...   \n",
       "895  User 976           0.74         1.12        0.30         0.53     0.88   \n",
       "896  User 977           1.25         0.92        1.12         0.38     0.78   \n",
       "897  User 978           0.61         1.32        0.67         0.43     1.30   \n",
       "898  User 979           0.93         0.20        0.13         0.43     0.30   \n",
       "899  User 980           0.93         0.56        1.13         0.51     1.34   \n",
       "\n",
       "     resorts  parks/picnic spots   beaches  theaters  religious institutions  \n",
       "0       2.42                3.19      2.79      1.82                    2.42  \n",
       "1       1.54                3.18      2.80      1.31                    2.50  \n",
       "2       1.52                3.18      2.96      1.57                    2.86  \n",
       "3       2.02                3.18      2.78      1.18                    2.54  \n",
       "4       1.26                3.17      2.89      1.66                    3.66  \n",
       "..       ...                 ...       ...       ...                     ...  \n",
       "895     1.38                3.17      2.78      0.99                    3.20  \n",
       "896     1.68                3.18      2.79      1.34                    2.80  \n",
       "897     1.78                3.17      2.81      1.34                    3.02  \n",
       "898     0.40                3.18      2.98      1.12                    2.46  \n",
       "899     2.36                3.18      2.87      1.34                    2.40  \n",
       "\n",
       "[900 rows x 11 columns]"
      ]
     },
     "execution_count": 17,
     "metadata": {},
     "output_type": "execute_result"
    }
   ],
   "source": [
    "data_outliers_removed.reset_index(drop=True)"
   ]
  },
  {
   "cell_type": "code",
   "execution_count": 18,
   "metadata": {},
   "outputs": [
    {
     "data": {
      "text/html": [
       "<div>\n",
       "<style scoped>\n",
       "    .dataframe tbody tr th:only-of-type {\n",
       "        vertical-align: middle;\n",
       "    }\n",
       "\n",
       "    .dataframe tbody tr th {\n",
       "        vertical-align: top;\n",
       "    }\n",
       "\n",
       "    .dataframe thead th {\n",
       "        text-align: right;\n",
       "    }\n",
       "</style>\n",
       "<table border=\"1\" class=\"dataframe\">\n",
       "  <thead>\n",
       "    <tr style=\"text-align: right;\">\n",
       "      <th></th>\n",
       "      <th>User ID</th>\n",
       "      <th>art galleries</th>\n",
       "      <th>dance clubs</th>\n",
       "      <th>juice bars</th>\n",
       "      <th>restaurants</th>\n",
       "      <th>museums</th>\n",
       "      <th>resorts</th>\n",
       "      <th>parks/picnic spots</th>\n",
       "      <th>beaches</th>\n",
       "      <th>theaters</th>\n",
       "      <th>religious institutions</th>\n",
       "    </tr>\n",
       "  </thead>\n",
       "  <tbody>\n",
       "    <tr>\n",
       "      <td>0</td>\n",
       "      <td>User 1</td>\n",
       "      <td>0.93</td>\n",
       "      <td>1.80</td>\n",
       "      <td>2.29</td>\n",
       "      <td>0.62</td>\n",
       "      <td>0.80</td>\n",
       "      <td>2.42</td>\n",
       "      <td>3.19</td>\n",
       "      <td>2.79</td>\n",
       "      <td>1.82</td>\n",
       "      <td>2.42</td>\n",
       "    </tr>\n",
       "    <tr>\n",
       "      <td>2</td>\n",
       "      <td>User 3</td>\n",
       "      <td>1.22</td>\n",
       "      <td>0.80</td>\n",
       "      <td>0.54</td>\n",
       "      <td>0.53</td>\n",
       "      <td>0.24</td>\n",
       "      <td>1.54</td>\n",
       "      <td>3.18</td>\n",
       "      <td>2.80</td>\n",
       "      <td>1.31</td>\n",
       "      <td>2.50</td>\n",
       "    </tr>\n",
       "    <tr>\n",
       "      <td>3</td>\n",
       "      <td>User 4</td>\n",
       "      <td>0.45</td>\n",
       "      <td>1.80</td>\n",
       "      <td>0.29</td>\n",
       "      <td>0.57</td>\n",
       "      <td>0.46</td>\n",
       "      <td>1.52</td>\n",
       "      <td>3.18</td>\n",
       "      <td>2.96</td>\n",
       "      <td>1.57</td>\n",
       "      <td>2.86</td>\n",
       "    </tr>\n",
       "    <tr>\n",
       "      <td>4</td>\n",
       "      <td>User 5</td>\n",
       "      <td>0.51</td>\n",
       "      <td>1.20</td>\n",
       "      <td>1.18</td>\n",
       "      <td>0.57</td>\n",
       "      <td>1.54</td>\n",
       "      <td>2.02</td>\n",
       "      <td>3.18</td>\n",
       "      <td>2.78</td>\n",
       "      <td>1.18</td>\n",
       "      <td>2.54</td>\n",
       "    </tr>\n",
       "    <tr>\n",
       "      <td>5</td>\n",
       "      <td>User 6</td>\n",
       "      <td>0.99</td>\n",
       "      <td>1.28</td>\n",
       "      <td>0.72</td>\n",
       "      <td>0.27</td>\n",
       "      <td>0.74</td>\n",
       "      <td>1.26</td>\n",
       "      <td>3.17</td>\n",
       "      <td>2.89</td>\n",
       "      <td>1.66</td>\n",
       "      <td>3.66</td>\n",
       "    </tr>\n",
       "  </tbody>\n",
       "</table>\n",
       "</div>"
      ],
      "text/plain": [
       "  User ID  art galleries  dance clubs  juice bars  restaurants  museums  \\\n",
       "0  User 1           0.93         1.80        2.29         0.62     0.80   \n",
       "2  User 3           1.22         0.80        0.54         0.53     0.24   \n",
       "3  User 4           0.45         1.80        0.29         0.57     0.46   \n",
       "4  User 5           0.51         1.20        1.18         0.57     1.54   \n",
       "5  User 6           0.99         1.28        0.72         0.27     0.74   \n",
       "\n",
       "   resorts  parks/picnic spots   beaches  theaters  religious institutions  \n",
       "0     2.42                3.19      2.79      1.82                    2.42  \n",
       "2     1.54                3.18      2.80      1.31                    2.50  \n",
       "3     1.52                3.18      2.96      1.57                    2.86  \n",
       "4     2.02                3.18      2.78      1.18                    2.54  \n",
       "5     1.26                3.17      2.89      1.66                    3.66  "
      ]
     },
     "execution_count": 18,
     "metadata": {},
     "output_type": "execute_result"
    }
   ],
   "source": [
    "data_outliers_removed.head()"
   ]
  },
  {
   "cell_type": "markdown",
   "metadata": {},
   "source": [
    "### 2 Data Preprocessing"
   ]
  },
  {
   "cell_type": "markdown",
   "metadata": {},
   "source": [
    "We scale the variables to get all the variables in the same range. With this, we can avoid a problem in which some features come to dominate solely because they tend to have larger values than others."
   ]
  },
  {
   "cell_type": "code",
   "execution_count": 19,
   "metadata": {},
   "outputs": [],
   "source": [
    "df_trip_outliers_removed = data_outliers_removed.set_index('User ID')"
   ]
  },
  {
   "cell_type": "code",
   "execution_count": 20,
   "metadata": {},
   "outputs": [
    {
     "data": {
      "text/html": [
       "<div>\n",
       "<style scoped>\n",
       "    .dataframe tbody tr th:only-of-type {\n",
       "        vertical-align: middle;\n",
       "    }\n",
       "\n",
       "    .dataframe tbody tr th {\n",
       "        vertical-align: top;\n",
       "    }\n",
       "\n",
       "    .dataframe thead th {\n",
       "        text-align: right;\n",
       "    }\n",
       "</style>\n",
       "<table border=\"1\" class=\"dataframe\">\n",
       "  <thead>\n",
       "    <tr style=\"text-align: right;\">\n",
       "      <th></th>\n",
       "      <th>art galleries</th>\n",
       "      <th>dance clubs</th>\n",
       "      <th>juice bars</th>\n",
       "      <th>restaurants</th>\n",
       "      <th>museums</th>\n",
       "      <th>resorts</th>\n",
       "      <th>parks/picnic spots</th>\n",
       "      <th>beaches</th>\n",
       "      <th>theaters</th>\n",
       "      <th>religious institutions</th>\n",
       "    </tr>\n",
       "  </thead>\n",
       "  <tbody>\n",
       "    <tr>\n",
       "      <td>0</td>\n",
       "      <td>0.202779</td>\n",
       "      <td>1.195742</td>\n",
       "      <td>1.606027</td>\n",
       "      <td>0.866767</td>\n",
       "      <td>-0.305195</td>\n",
       "      <td>1.114414</td>\n",
       "      <td>1.164213</td>\n",
       "      <td>-0.334675</td>\n",
       "      <td>0.797025</td>\n",
       "      <td>-1.200847</td>\n",
       "    </tr>\n",
       "    <tr>\n",
       "      <td>1</td>\n",
       "      <td>1.234462</td>\n",
       "      <td>-1.275026</td>\n",
       "      <td>-0.620032</td>\n",
       "      <td>0.223718</td>\n",
       "      <td>-1.706093</td>\n",
       "      <td>-0.552755</td>\n",
       "      <td>-0.116706</td>\n",
       "      <td>-0.258265</td>\n",
       "      <td>-0.720393</td>\n",
       "      <td>-0.950294</td>\n",
       "    </tr>\n",
       "    <tr>\n",
       "      <td>2</td>\n",
       "      <td>-1.504834</td>\n",
       "      <td>1.195742</td>\n",
       "      <td>-0.938040</td>\n",
       "      <td>0.509517</td>\n",
       "      <td>-1.155740</td>\n",
       "      <td>-0.590645</td>\n",
       "      <td>-0.116706</td>\n",
       "      <td>0.964292</td>\n",
       "      <td>0.053192</td>\n",
       "      <td>0.177197</td>\n",
       "    </tr>\n",
       "    <tr>\n",
       "      <td>3</td>\n",
       "      <td>-1.291383</td>\n",
       "      <td>-0.286719</td>\n",
       "      <td>0.194070</td>\n",
       "      <td>0.509517</td>\n",
       "      <td>1.545990</td>\n",
       "      <td>0.356610</td>\n",
       "      <td>-0.116706</td>\n",
       "      <td>-0.411085</td>\n",
       "      <td>-1.107186</td>\n",
       "      <td>-0.825017</td>\n",
       "    </tr>\n",
       "    <tr>\n",
       "      <td>4</td>\n",
       "      <td>0.416231</td>\n",
       "      <td>-0.089057</td>\n",
       "      <td>-0.391066</td>\n",
       "      <td>-1.633981</td>\n",
       "      <td>-0.455292</td>\n",
       "      <td>-1.083218</td>\n",
       "      <td>-1.397624</td>\n",
       "      <td>0.429423</td>\n",
       "      <td>0.320972</td>\n",
       "      <td>2.682732</td>\n",
       "    </tr>\n",
       "  </tbody>\n",
       "</table>\n",
       "</div>"
      ],
      "text/plain": [
       "   art galleries  dance clubs  juice bars  restaurants   museums   resorts  \\\n",
       "0       0.202779     1.195742    1.606027     0.866767 -0.305195  1.114414   \n",
       "1       1.234462    -1.275026   -0.620032     0.223718 -1.706093 -0.552755   \n",
       "2      -1.504834     1.195742   -0.938040     0.509517 -1.155740 -0.590645   \n",
       "3      -1.291383    -0.286719    0.194070     0.509517  1.545990  0.356610   \n",
       "4       0.416231    -0.089057   -0.391066    -1.633981 -0.455292 -1.083218   \n",
       "\n",
       "   parks/picnic spots   beaches  theaters  religious institutions  \n",
       "0            1.164213 -0.334675  0.797025               -1.200847  \n",
       "1           -0.116706 -0.258265 -0.720393               -0.950294  \n",
       "2           -0.116706  0.964292  0.053192                0.177197  \n",
       "3           -0.116706 -0.411085 -1.107186               -0.825017  \n",
       "4           -1.397624  0.429423  0.320972                2.682732  "
      ]
     },
     "execution_count": 20,
     "metadata": {},
     "output_type": "execute_result"
    }
   ],
   "source": [
    "from sklearn.preprocessing import StandardScaler\n",
    "std_tour = StandardScaler().fit_transform(df_trip_outliers_removed)\n",
    "\n",
    "X_scaled = pd.DataFrame(std_tour, columns = df_trip_outliers_removed.columns)\n",
    "\n",
    "X_scaled.head()"
   ]
  },
  {
   "cell_type": "code",
   "execution_count": 21,
   "metadata": {},
   "outputs": [
    {
     "data": {
      "text/plain": [
       "<matplotlib.axes._subplots.AxesSubplot at 0xbe8cbc8>"
      ]
     },
     "execution_count": 21,
     "metadata": {},
     "output_type": "execute_result"
    },
    {
     "data": {
      "image/png": "[encoded data removed]",
      "text/plain": [
       "<Figure size 1440x720 with 2 Axes>"
      ]
     },
     "metadata": {
      "needs_background": "light"
     },
     "output_type": "display_data"
    }
   ],
   "source": [
    "plt.figure(figsize = (20,10))       \n",
    "sns.heatmap(X_scaled.corr(),annot = True)"
   ]
  },
  {
   "cell_type": "markdown",
   "metadata": {},
   "source": [
    "### 3. K-Means Clustering"
   ]
  },
  {
   "cell_type": "markdown",
   "metadata": {},
   "source": [
    "Let us perform the centroid-based clustering algorithm (i.e. K-Means). Such algorithms are efficient but sensitive to initial conditions and outliers. K-means is the most widely-used centroid-based clustering algorithm.\n",
    "\n",
    "Here we consider two techniques (elbow/scree plot and Silhouette score) to decide the optimal value of K to perform the K-means clustering"
   ]
  },
  {
   "cell_type": "code",
   "execution_count": 22,
   "metadata": {},
   "outputs": [],
   "source": [
    "from sklearn.cluster import KMeans\n"
   ]
  },
  {
   "cell_type": "code",
   "execution_count": 23,
   "metadata": {},
   "outputs": [],
   "source": [
    "wcss  = []\n",
    "\n",
    "# use for loop to perform K-means with different values of K\n",
    "# set the 'random_state' to obtain the same centroid initialization for each code run\n",
    "# fit the model on scaled data\n",
    "# append the value of WCSS for each K to the list 'wcss'\n",
    "# the 'inertia_' retuns the WCSS for specific value of K\n",
    "for i in range(1,15):\n",
    "    kmeans = KMeans(n_clusters = i, random_state = 10)\n",
    "    kmeans.fit(X_scaled)\n",
    "    wcss.append(kmeans.inertia_)"
   ]
  },
  {
   "cell_type": "markdown",
   "metadata": {},
   "source": [
    "Let us plot the elbow plot and identify the elbow point."
   ]
  },
  {
   "cell_type": "code",
   "execution_count": 24,
   "metadata": {},
   "outputs": [
    {
     "data": {
      "image/png": "[encoded data removed]",
      "text/plain": [
       "<Figure size 432x288 with 1 Axes>"
      ]
     },
     "metadata": {
      "needs_background": "light"
     },
     "output_type": "display_data"
    }
   ],
   "source": [
    "\n",
    "plt.plot(range(1,15), wcss)\n",
    "\n",
    "# set the axes and plot labels\n",
    "# set the font size using 'fontsize'\n",
    "plt.title('Elbow Plot', fontsize = 15)\n",
    "plt.xlabel('No. of clusters (K)', fontsize = 15)\n",
    "plt.ylabel('WCSS', fontsize = 15)\n",
    "\n",
    "# display the plot\n",
    "plt.show()"
   ]
  },
  {
   "cell_type": "code",
   "execution_count": 25,
   "metadata": {},
   "outputs": [
    {
     "name": "stdout",
     "output_type": "stream",
     "text": [
      "For 2 clusters the silhouette score is 0.2098396013979668)\n",
      "For 3 clusters the silhouette score is 0.15147852793978028)\n",
      "For 4 clusters the silhouette score is 0.13059400098750054)\n",
      "For 5 clusters the silhouette score is 0.1310695809729934)\n",
      "For 6 clusters the silhouette score is 0.1305246313633315)\n"
     ]
    }
   ],
   "source": [
    "from sklearn.metrics import silhouette_score\n",
    "n_clusters = [2, 3, 4, 5, 6]\n",
    "\n",
    "# use 'for' loop to build the clusters\n",
    "# 'random_state' returns the same sample each time you run the code  \n",
    "# fit and predict on the scaled data\n",
    "# 'silhouette_score' function computes the silhouette score for each K\n",
    "for K in n_clusters:\n",
    "    cluster = KMeans (n_clusters= K, random_state= 10)\n",
    "    predict = cluster.fit_predict(X_scaled)\n",
    "    score = silhouette_score(X_scaled, predict, random_state= 10)\n",
    "    print (\"For {} clusters the silhouette score is {})\".format(K, score))"
   ]
  },
  {
   "cell_type": "markdown",
   "metadata": {},
   "source": [
    "### 2.1 Bulid the cluster "
   ]
  },
  {
   "cell_type": "code",
   "execution_count": 26,
   "metadata": {},
   "outputs": [
    {
     "data": {
      "image/png": "[encoded data removed]",
      "text/plain": [
       "<Figure size 432x288 with 1 Axes>"
      ]
     },
     "metadata": {
      "needs_background": "light"
     },
     "output_type": "display_data"
    }
   ],
   "source": [
    "plt.plot(range(1,15), wcss)\n",
    "\n",
    "# set the axes and plot labels\n",
    "# set the font size using 'fontsize'\n",
    "plt.title('Elbow Plot', fontsize = 15)\n",
    "plt.xlabel('No. of clusters (K)', fontsize = 15)\n",
    "plt.ylabel('WCSS', fontsize = 15)\n",
    "plt.axvline(x = 2, color = 'red')\n",
    "\n",
    "# display the plot\n",
    "plt.show()\n"
   ]
  },
  {
   "cell_type": "code",
   "execution_count": 27,
   "metadata": {},
   "outputs": [],
   "source": [
    "new_clusters = KMeans(n_clusters = 2, random_state = 10)\n",
    "\n",
    "# fit the model\n",
    "new_clusters.fit(X_scaled)\n",
    "\n",
    "# append the cluster label for each point in the dataframe 'df_trip'\n",
    "df_trip_outliers_removed['K-Means_Cluster_ID'] = new_clusters.labels_"
   ]
  },
  {
   "cell_type": "code",
   "execution_count": 28,
   "metadata": {},
   "outputs": [
    {
     "data": {
      "text/html": [
       "<div>\n",
       "<style scoped>\n",
       "    .dataframe tbody tr th:only-of-type {\n",
       "        vertical-align: middle;\n",
       "    }\n",
       "\n",
       "    .dataframe tbody tr th {\n",
       "        vertical-align: top;\n",
       "    }\n",
       "\n",
       "    .dataframe thead th {\n",
       "        text-align: right;\n",
       "    }\n",
       "</style>\n",
       "<table border=\"1\" class=\"dataframe\">\n",
       "  <thead>\n",
       "    <tr style=\"text-align: right;\">\n",
       "      <th></th>\n",
       "      <th>art galleries</th>\n",
       "      <th>dance clubs</th>\n",
       "      <th>juice bars</th>\n",
       "      <th>restaurants</th>\n",
       "      <th>museums</th>\n",
       "      <th>resorts</th>\n",
       "      <th>parks/picnic spots</th>\n",
       "      <th>beaches</th>\n",
       "      <th>theaters</th>\n",
       "      <th>religious institutions</th>\n",
       "      <th>K-Means_Cluster_ID</th>\n",
       "    </tr>\n",
       "    <tr>\n",
       "      <th>User ID</th>\n",
       "      <th></th>\n",
       "      <th></th>\n",
       "      <th></th>\n",
       "      <th></th>\n",
       "      <th></th>\n",
       "      <th></th>\n",
       "      <th></th>\n",
       "      <th></th>\n",
       "      <th></th>\n",
       "      <th></th>\n",
       "      <th></th>\n",
       "    </tr>\n",
       "  </thead>\n",
       "  <tbody>\n",
       "    <tr>\n",
       "      <td>User 1</td>\n",
       "      <td>0.93</td>\n",
       "      <td>1.8</td>\n",
       "      <td>2.29</td>\n",
       "      <td>0.62</td>\n",
       "      <td>0.80</td>\n",
       "      <td>2.42</td>\n",
       "      <td>3.19</td>\n",
       "      <td>2.79</td>\n",
       "      <td>1.82</td>\n",
       "      <td>2.42</td>\n",
       "      <td>1</td>\n",
       "    </tr>\n",
       "    <tr>\n",
       "      <td>User 3</td>\n",
       "      <td>1.22</td>\n",
       "      <td>0.8</td>\n",
       "      <td>0.54</td>\n",
       "      <td>0.53</td>\n",
       "      <td>0.24</td>\n",
       "      <td>1.54</td>\n",
       "      <td>3.18</td>\n",
       "      <td>2.80</td>\n",
       "      <td>1.31</td>\n",
       "      <td>2.50</td>\n",
       "      <td>0</td>\n",
       "    </tr>\n",
       "    <tr>\n",
       "      <td>User 4</td>\n",
       "      <td>0.45</td>\n",
       "      <td>1.8</td>\n",
       "      <td>0.29</td>\n",
       "      <td>0.57</td>\n",
       "      <td>0.46</td>\n",
       "      <td>1.52</td>\n",
       "      <td>3.18</td>\n",
       "      <td>2.96</td>\n",
       "      <td>1.57</td>\n",
       "      <td>2.86</td>\n",
       "      <td>0</td>\n",
       "    </tr>\n",
       "    <tr>\n",
       "      <td>User 5</td>\n",
       "      <td>0.51</td>\n",
       "      <td>1.2</td>\n",
       "      <td>1.18</td>\n",
       "      <td>0.57</td>\n",
       "      <td>1.54</td>\n",
       "      <td>2.02</td>\n",
       "      <td>3.18</td>\n",
       "      <td>2.78</td>\n",
       "      <td>1.18</td>\n",
       "      <td>2.54</td>\n",
       "      <td>1</td>\n",
       "    </tr>\n",
       "  </tbody>\n",
       "</table>\n",
       "</div>"
      ],
      "text/plain": [
       "         art galleries  dance clubs  juice bars  restaurants  museums  \\\n",
       "User ID                                                                 \n",
       "User 1            0.93          1.8        2.29         0.62     0.80   \n",
       "User 3            1.22          0.8        0.54         0.53     0.24   \n",
       "User 4            0.45          1.8        0.29         0.57     0.46   \n",
       "User 5            0.51          1.2        1.18         0.57     1.54   \n",
       "\n",
       "         resorts  parks/picnic spots   beaches  theaters  \\\n",
       "User ID                                                    \n",
       "User 1      2.42                3.19      2.79      1.82   \n",
       "User 3      1.54                3.18      2.80      1.31   \n",
       "User 4      1.52                3.18      2.96      1.57   \n",
       "User 5      2.02                3.18      2.78      1.18   \n",
       "\n",
       "         religious institutions  K-Means_Cluster_ID  \n",
       "User ID                                              \n",
       "User 1                     2.42                   1  \n",
       "User 3                     2.50                   0  \n",
       "User 4                     2.86                   0  \n",
       "User 5                     2.54                   1  "
      ]
     },
     "execution_count": 28,
     "metadata": {},
     "output_type": "execute_result"
    }
   ],
   "source": [
    "df_trip_outliers_removed.head(4)"
   ]
  },
  {
   "cell_type": "code",
   "execution_count": 29,
   "metadata": {},
   "outputs": [
    {
     "data": {
      "text/plain": [
       "0    533\n",
       "1    367\n",
       "Name: K-Means_Cluster_ID, dtype: int64"
      ]
     },
     "execution_count": 29,
     "metadata": {},
     "output_type": "execute_result"
    }
   ],
   "source": [
    "df_trip_outliers_removed['K-Means_Cluster_ID'].value_counts()"
   ]
  },
  {
   "cell_type": "markdown",
   "metadata": {},
   "source": [
    "Plot a barplot to visualize the cluster sizes"
   ]
  },
  {
   "cell_type": "code",
   "execution_count": 30,
   "metadata": {},
   "outputs": [
    {
     "data": {
      "image/png": "[encoded data removed]",
      "text/plain": [
       "<Figure size 432x288 with 1 Axes>"
      ]
     },
     "metadata": {
      "needs_background": "light"
     },
     "output_type": "display_data"
    }
   ],
   "source": [
    "# use 'seaborn' library to plot a barplot for cluster size\n",
    "sns.countplot(data= df_trip_outliers_removed, x = 'K-Means_Cluster_ID')\n",
    "\n",
    "# set the axes and plot labels\n",
    "# set the font size using 'fontsize'\n",
    "plt.title('Size of Cluster', fontsize = 15)\n",
    "plt.xlabel('Clusters', fontsize = 15)\n",
    "plt.ylabel('Number of Customers', fontsize = 15)\n",
    "\n",
    "# display the plot\n",
    "plt.show()"
   ]
  },
  {
   "cell_type": "code",
   "execution_count": 31,
   "metadata": {},
   "outputs": [
    {
     "data": {
      "text/plain": [
       "533"
      ]
     },
     "execution_count": 31,
     "metadata": {},
     "output_type": "execute_result"
    }
   ],
   "source": [
    "# size of a cluster 0\n",
    "len(df_trip_outliers_removed[df_trip_outliers_removed['K-Means_Cluster_ID'] == 0])"
   ]
  },
  {
   "cell_type": "code",
   "execution_count": 32,
   "metadata": {},
   "outputs": [
    {
     "data": {
      "text/plain": [
       "367"
      ]
     },
     "execution_count": 32,
     "metadata": {},
     "output_type": "execute_result"
    }
   ],
   "source": [
    "# size of a cluster 1\n",
    "len(df_trip_outliers_removed[df_trip_outliers_removed['K-Means_Cluster_ID'] == 1])"
   ]
  },
  {
   "cell_type": "markdown",
   "metadata": {},
   "source": [
    "The cluster 1 is the largest cluster"
   ]
  },
  {
   "cell_type": "code",
   "execution_count": 33,
   "metadata": {},
   "outputs": [
    {
     "data": {
      "text/html": [
       "<div>\n",
       "<style scoped>\n",
       "    .dataframe tbody tr th:only-of-type {\n",
       "        vertical-align: middle;\n",
       "    }\n",
       "\n",
       "    .dataframe tbody tr th {\n",
       "        vertical-align: top;\n",
       "    }\n",
       "\n",
       "    .dataframe thead th {\n",
       "        text-align: right;\n",
       "    }\n",
       "</style>\n",
       "<table border=\"1\" class=\"dataframe\">\n",
       "  <thead>\n",
       "    <tr style=\"text-align: right;\">\n",
       "      <th></th>\n",
       "      <th>art galleries</th>\n",
       "      <th>dance clubs</th>\n",
       "      <th>juice bars</th>\n",
       "      <th>restaurants</th>\n",
       "      <th>museums</th>\n",
       "      <th>resorts</th>\n",
       "      <th>parks/picnic spots</th>\n",
       "      <th>beaches</th>\n",
       "      <th>theaters</th>\n",
       "      <th>religious institutions</th>\n",
       "      <th>K-Means_Cluster_ID</th>\n",
       "    </tr>\n",
       "  </thead>\n",
       "  <tbody>\n",
       "    <tr>\n",
       "      <td>count</td>\n",
       "      <td>367.000000</td>\n",
       "      <td>367.000000</td>\n",
       "      <td>367.000000</td>\n",
       "      <td>367.000000</td>\n",
       "      <td>367.000000</td>\n",
       "      <td>367.000000</td>\n",
       "      <td>367.000000</td>\n",
       "      <td>367.000000</td>\n",
       "      <td>367.000000</td>\n",
       "      <td>367.000000</td>\n",
       "      <td>367.0</td>\n",
       "    </tr>\n",
       "    <tr>\n",
       "      <td>mean</td>\n",
       "      <td>0.868692</td>\n",
       "      <td>1.408937</td>\n",
       "      <td>1.626512</td>\n",
       "      <td>0.586022</td>\n",
       "      <td>1.180763</td>\n",
       "      <td>2.229128</td>\n",
       "      <td>3.187003</td>\n",
       "      <td>2.820436</td>\n",
       "      <td>1.591471</td>\n",
       "      <td>2.550300</td>\n",
       "      <td>1.0</td>\n",
       "    </tr>\n",
       "    <tr>\n",
       "      <td>std</td>\n",
       "      <td>0.259901</td>\n",
       "      <td>0.458745</td>\n",
       "      <td>0.739557</td>\n",
       "      <td>0.136740</td>\n",
       "      <td>0.370428</td>\n",
       "      <td>0.427722</td>\n",
       "      <td>0.006955</td>\n",
       "      <td>0.120243</td>\n",
       "      <td>0.311880</td>\n",
       "      <td>0.171441</td>\n",
       "      <td>0.0</td>\n",
       "    </tr>\n",
       "    <tr>\n",
       "      <td>min</td>\n",
       "      <td>0.350000</td>\n",
       "      <td>0.320000</td>\n",
       "      <td>0.180000</td>\n",
       "      <td>0.290000</td>\n",
       "      <td>0.300000</td>\n",
       "      <td>1.220000</td>\n",
       "      <td>3.180000</td>\n",
       "      <td>2.540000</td>\n",
       "      <td>0.960000</td>\n",
       "      <td>2.260000</td>\n",
       "      <td>1.0</td>\n",
       "    </tr>\n",
       "    <tr>\n",
       "      <td>25%</td>\n",
       "      <td>0.700000</td>\n",
       "      <td>1.040000</td>\n",
       "      <td>1.180000</td>\n",
       "      <td>0.505000</td>\n",
       "      <td>0.900000</td>\n",
       "      <td>1.920000</td>\n",
       "      <td>3.180000</td>\n",
       "      <td>2.740000</td>\n",
       "      <td>1.380000</td>\n",
       "      <td>2.420000</td>\n",
       "      <td>1.0</td>\n",
       "    </tr>\n",
       "    <tr>\n",
       "      <td>50%</td>\n",
       "      <td>0.830000</td>\n",
       "      <td>1.320000</td>\n",
       "      <td>1.630000</td>\n",
       "      <td>0.560000</td>\n",
       "      <td>1.180000</td>\n",
       "      <td>2.220000</td>\n",
       "      <td>3.190000</td>\n",
       "      <td>2.820000</td>\n",
       "      <td>1.540000</td>\n",
       "      <td>2.500000</td>\n",
       "      <td>1.0</td>\n",
       "    </tr>\n",
       "    <tr>\n",
       "      <td>75%</td>\n",
       "      <td>1.005000</td>\n",
       "      <td>1.720000</td>\n",
       "      <td>2.230000</td>\n",
       "      <td>0.630000</td>\n",
       "      <td>1.440000</td>\n",
       "      <td>2.530000</td>\n",
       "      <td>3.190000</td>\n",
       "      <td>2.885000</td>\n",
       "      <td>1.760000</td>\n",
       "      <td>2.660000</td>\n",
       "      <td>1.0</td>\n",
       "    </tr>\n",
       "    <tr>\n",
       "      <td>max</td>\n",
       "      <td>1.870000</td>\n",
       "      <td>2.760000</td>\n",
       "      <td>3.120000</td>\n",
       "      <td>1.300000</td>\n",
       "      <td>2.180000</td>\n",
       "      <td>3.380000</td>\n",
       "      <td>3.200000</td>\n",
       "      <td>3.190000</td>\n",
       "      <td>2.620000</td>\n",
       "      <td>3.140000</td>\n",
       "      <td>1.0</td>\n",
       "    </tr>\n",
       "  </tbody>\n",
       "</table>\n",
       "</div>"
      ],
      "text/plain": [
       "       art galleries  dance clubs  juice bars  restaurants     museums  \\\n",
       "count     367.000000   367.000000  367.000000   367.000000  367.000000   \n",
       "mean        0.868692     1.408937    1.626512     0.586022    1.180763   \n",
       "std         0.259901     0.458745    0.739557     0.136740    0.370428   \n",
       "min         0.350000     0.320000    0.180000     0.290000    0.300000   \n",
       "25%         0.700000     1.040000    1.180000     0.505000    0.900000   \n",
       "50%         0.830000     1.320000    1.630000     0.560000    1.180000   \n",
       "75%         1.005000     1.720000    2.230000     0.630000    1.440000   \n",
       "max         1.870000     2.760000    3.120000     1.300000    2.180000   \n",
       "\n",
       "          resorts  parks/picnic spots     beaches    theaters  \\\n",
       "count  367.000000          367.000000  367.000000  367.000000   \n",
       "mean     2.229128            3.187003    2.820436    1.591471   \n",
       "std      0.427722            0.006955    0.120243    0.311880   \n",
       "min      1.220000            3.180000    2.540000    0.960000   \n",
       "25%      1.920000            3.180000    2.740000    1.380000   \n",
       "50%      2.220000            3.190000    2.820000    1.540000   \n",
       "75%      2.530000            3.190000    2.885000    1.760000   \n",
       "max      3.380000            3.200000    3.190000    2.620000   \n",
       "\n",
       "       religious institutions  K-Means_Cluster_ID  \n",
       "count              367.000000               367.0  \n",
       "mean                 2.550300                 1.0  \n",
       "std                  0.171441                 0.0  \n",
       "min                  2.260000                 1.0  \n",
       "25%                  2.420000                 1.0  \n",
       "50%                  2.500000                 1.0  \n",
       "75%                  2.660000                 1.0  \n",
       "max                  3.140000                 1.0  "
      ]
     },
     "execution_count": 33,
     "metadata": {},
     "output_type": "execute_result"
    }
   ],
   "source": [
    "df_trip_outliers_removed[df_trip_outliers_removed['K-Means_Cluster_ID'] == 1].describe()"
   ]
  },
  {
   "cell_type": "code",
   "execution_count": 34,
   "metadata": {},
   "outputs": [
    {
     "data": {
      "text/html": [
       "<div>\n",
       "<style scoped>\n",
       "    .dataframe tbody tr th:only-of-type {\n",
       "        vertical-align: middle;\n",
       "    }\n",
       "\n",
       "    .dataframe tbody tr th {\n",
       "        vertical-align: top;\n",
       "    }\n",
       "\n",
       "    .dataframe thead th {\n",
       "        text-align: right;\n",
       "    }\n",
       "</style>\n",
       "<table border=\"1\" class=\"dataframe\">\n",
       "  <thead>\n",
       "    <tr style=\"text-align: right;\">\n",
       "      <th></th>\n",
       "      <th>art galleries</th>\n",
       "      <th>dance clubs</th>\n",
       "      <th>juice bars</th>\n",
       "      <th>restaurants</th>\n",
       "      <th>museums</th>\n",
       "      <th>resorts</th>\n",
       "      <th>parks/picnic spots</th>\n",
       "      <th>beaches</th>\n",
       "      <th>theaters</th>\n",
       "      <th>religious institutions</th>\n",
       "      <th>K-Means_Cluster_ID</th>\n",
       "    </tr>\n",
       "  </thead>\n",
       "  <tbody>\n",
       "    <tr>\n",
       "      <td>count</td>\n",
       "      <td>533.000000</td>\n",
       "      <td>533.000000</td>\n",
       "      <td>533.000000</td>\n",
       "      <td>533.000000</td>\n",
       "      <td>533.000000</td>\n",
       "      <td>533.000000</td>\n",
       "      <td>533.000000</td>\n",
       "      <td>533.000000</td>\n",
       "      <td>533.000000</td>\n",
       "      <td>533.000000</td>\n",
       "      <td>533.0</td>\n",
       "    </tr>\n",
       "    <tr>\n",
       "      <td>mean</td>\n",
       "      <td>0.875966</td>\n",
       "      <td>1.252083</td>\n",
       "      <td>0.614934</td>\n",
       "      <td>0.438555</td>\n",
       "      <td>0.743827</td>\n",
       "      <td>1.558161</td>\n",
       "      <td>3.176717</td>\n",
       "      <td>2.843002</td>\n",
       "      <td>1.525028</td>\n",
       "      <td>2.977711</td>\n",
       "      <td>0.0</td>\n",
       "    </tr>\n",
       "    <tr>\n",
       "      <td>std</td>\n",
       "      <td>0.295258</td>\n",
       "      <td>0.349695</td>\n",
       "      <td>0.501181</td>\n",
       "      <td>0.106725</td>\n",
       "      <td>0.312942</td>\n",
       "      <td>0.401941</td>\n",
       "      <td>0.005158</td>\n",
       "      <td>0.137188</td>\n",
       "      <td>0.349826</td>\n",
       "      <td>0.278594</td>\n",
       "      <td>0.0</td>\n",
       "    </tr>\n",
       "    <tr>\n",
       "      <td>min</td>\n",
       "      <td>0.340000</td>\n",
       "      <td>0.000000</td>\n",
       "      <td>0.130000</td>\n",
       "      <td>0.170000</td>\n",
       "      <td>0.060000</td>\n",
       "      <td>0.380000</td>\n",
       "      <td>3.160000</td>\n",
       "      <td>2.480000</td>\n",
       "      <td>0.740000</td>\n",
       "      <td>2.300000</td>\n",
       "      <td>0.0</td>\n",
       "    </tr>\n",
       "    <tr>\n",
       "      <td>25%</td>\n",
       "      <td>0.670000</td>\n",
       "      <td>1.080000</td>\n",
       "      <td>0.220000</td>\n",
       "      <td>0.370000</td>\n",
       "      <td>0.540000</td>\n",
       "      <td>1.300000</td>\n",
       "      <td>3.170000</td>\n",
       "      <td>2.740000</td>\n",
       "      <td>1.280000</td>\n",
       "      <td>2.780000</td>\n",
       "      <td>0.0</td>\n",
       "    </tr>\n",
       "    <tr>\n",
       "      <td>50%</td>\n",
       "      <td>0.830000</td>\n",
       "      <td>1.240000</td>\n",
       "      <td>0.370000</td>\n",
       "      <td>0.430000</td>\n",
       "      <td>0.740000</td>\n",
       "      <td>1.540000</td>\n",
       "      <td>3.180000</td>\n",
       "      <td>2.830000</td>\n",
       "      <td>1.470000</td>\n",
       "      <td>2.960000</td>\n",
       "      <td>0.0</td>\n",
       "    </tr>\n",
       "    <tr>\n",
       "      <td>75%</td>\n",
       "      <td>1.020000</td>\n",
       "      <td>1.440000</td>\n",
       "      <td>0.910000</td>\n",
       "      <td>0.500000</td>\n",
       "      <td>0.960000</td>\n",
       "      <td>1.840000</td>\n",
       "      <td>3.180000</td>\n",
       "      <td>2.940000</td>\n",
       "      <td>1.730000</td>\n",
       "      <td>3.200000</td>\n",
       "      <td>0.0</td>\n",
       "    </tr>\n",
       "    <tr>\n",
       "      <td>max</td>\n",
       "      <td>1.870000</td>\n",
       "      <td>2.400000</td>\n",
       "      <td>2.480000</td>\n",
       "      <td>0.810000</td>\n",
       "      <td>1.740000</td>\n",
       "      <td>2.800000</td>\n",
       "      <td>3.180000</td>\n",
       "      <td>3.230000</td>\n",
       "      <td>2.590000</td>\n",
       "      <td>3.660000</td>\n",
       "      <td>0.0</td>\n",
       "    </tr>\n",
       "  </tbody>\n",
       "</table>\n",
       "</div>"
      ],
      "text/plain": [
       "       art galleries  dance clubs  juice bars  restaurants     museums  \\\n",
       "count     533.000000   533.000000  533.000000   533.000000  533.000000   \n",
       "mean        0.875966     1.252083    0.614934     0.438555    0.743827   \n",
       "std         0.295258     0.349695    0.501181     0.106725    0.312942   \n",
       "min         0.340000     0.000000    0.130000     0.170000    0.060000   \n",
       "25%         0.670000     1.080000    0.220000     0.370000    0.540000   \n",
       "50%         0.830000     1.240000    0.370000     0.430000    0.740000   \n",
       "75%         1.020000     1.440000    0.910000     0.500000    0.960000   \n",
       "max         1.870000     2.400000    2.480000     0.810000    1.740000   \n",
       "\n",
       "          resorts  parks/picnic spots     beaches    theaters  \\\n",
       "count  533.000000          533.000000  533.000000  533.000000   \n",
       "mean     1.558161            3.176717    2.843002    1.525028   \n",
       "std      0.401941            0.005158    0.137188    0.349826   \n",
       "min      0.380000            3.160000    2.480000    0.740000   \n",
       "25%      1.300000            3.170000    2.740000    1.280000   \n",
       "50%      1.540000            3.180000    2.830000    1.470000   \n",
       "75%      1.840000            3.180000    2.940000    1.730000   \n",
       "max      2.800000            3.180000    3.230000    2.590000   \n",
       "\n",
       "       religious institutions  K-Means_Cluster_ID  \n",
       "count              533.000000               533.0  \n",
       "mean                 2.977711                 0.0  \n",
       "std                  0.278594                 0.0  \n",
       "min                  2.300000                 0.0  \n",
       "25%                  2.780000                 0.0  \n",
       "50%                  2.960000                 0.0  \n",
       "75%                  3.200000                 0.0  \n",
       "max                  3.660000                 0.0  "
      ]
     },
     "execution_count": 34,
     "metadata": {},
     "output_type": "execute_result"
    }
   ],
   "source": [
    "df_trip_outliers_removed[df_trip_outliers_removed['K-Means_Cluster_ID'] == 0].describe()"
   ]
  },
  {
   "cell_type": "markdown",
   "metadata": {},
   "source": [
    "### PCA"
   ]
  },
  {
   "cell_type": "code",
   "execution_count": 35,
   "metadata": {},
   "outputs": [],
   "source": [
    "from sklearn.decomposition import PCA\n",
    "pca = PCA(random_state=42)"
   ]
  },
  {
   "cell_type": "code",
   "execution_count": 36,
   "metadata": {},
   "outputs": [
    {
     "data": {
      "text/plain": [
       "PCA(random_state=42)"
      ]
     },
     "execution_count": 36,
     "metadata": {},
     "output_type": "execute_result"
    }
   ],
   "source": [
    "pca.fit(X_scaled)"
   ]
  },
  {
   "cell_type": "code",
   "execution_count": 37,
   "metadata": {},
   "outputs": [
    {
     "data": {
      "text/plain": [
       "array([[-0.01468124,  0.10576915,  0.41118474,  0.32909362,  0.31536331,\n",
       "         0.40326555,  0.48228555, -0.05683474,  0.07123616, -0.45633387],\n",
       "       [ 0.40059818, -0.47254619, -0.17710391,  0.23056041, -0.01771249,\n",
       "         0.16463811, -0.02197576,  0.60042962,  0.37791215, -0.02148509],\n",
       "       [ 0.44606233, -0.47074934,  0.26569029,  0.09144434, -0.3266343 ,\n",
       "        -0.19935621,  0.14343325, -0.26315355, -0.50124059, -0.11389542],\n",
       "       [ 0.40342412, -0.01255643,  0.05447239, -0.31806157,  0.57832102,\n",
       "         0.41138965, -0.21932709, -0.04130564, -0.30638076,  0.29254842],\n",
       "       [ 0.54625998,  0.37843921, -0.24506513,  0.25326671, -0.1856953 ,\n",
       "         0.11560863, -0.12263386, -0.49854526,  0.35028398, -0.00703132],\n",
       "       [-0.25113453, -0.10830546, -0.45042917,  0.60300221,  0.14055832,\n",
       "         0.16892649, -0.31585832, -0.06780233, -0.433493  , -0.13465012],\n",
       "       [ 0.2518672 ,  0.61369968,  0.00838865,  0.09410706, -0.24347797,\n",
       "        -0.01871963,  0.1023076 ,  0.54932485, -0.42326109, -0.00160334],\n",
       "       [ 0.01182223, -0.04822392, -0.41775942, -0.54040492, -0.20317103,\n",
       "         0.30284871,  0.03855124, -0.01294465, -0.09296319, -0.62264159],\n",
       "       [-0.22920378, -0.07795315,  0.17815627,  0.01851453, -0.54423166,\n",
       "         0.68357691, -0.01387231, -0.0419744 , -0.01820174,  0.37888706],\n",
       "       [ 0.00178686,  0.06143722,  0.50668179,  0.00468546, -0.0899978 ,\n",
       "         0.00633836, -0.75583677,  0.09201302,  0.09087388, -0.37857685]])"
      ]
     },
     "execution_count": 37,
     "metadata": {},
     "output_type": "execute_result"
    }
   ],
   "source": [
    "pca.components_"
   ]
  },
  {
   "cell_type": "code",
   "execution_count": 38,
   "metadata": {},
   "outputs": [
    {
     "data": {
      "text/plain": [
       "array([0.31939189, 0.13086157, 0.12379616, 0.10540534, 0.08715564,\n",
       "       0.08078176, 0.06901419, 0.03824274, 0.0315682 , 0.01378252])"
      ]
     },
     "execution_count": 38,
     "metadata": {},
     "output_type": "execute_result"
    }
   ],
   "source": [
    "pca.explained_variance_ratio_"
   ]
  },
  {
   "cell_type": "code",
   "execution_count": 39,
   "metadata": {},
   "outputs": [
    {
     "data": {
      "text/plain": [
       "array([0.31939189, 0.45025346, 0.57404961, 0.67945495, 0.76661059,\n",
       "       0.84739235, 0.91640654, 0.95464928, 0.98621748, 1.        ])"
      ]
     },
     "execution_count": 39,
     "metadata": {},
     "output_type": "execute_result"
    }
   ],
   "source": [
    "var_cumu = np.cumsum(pca.explained_variance_ratio_)\n",
    "var_cumu"
   ]
  },
  {
   "cell_type": "code",
   "execution_count": 40,
   "metadata": {},
   "outputs": [
    {
     "data": {
      "image/png": "[encoded data removed]",
      "text/plain": [
       "<Figure size 1200x800 with 1 Axes>"
      ]
     },
     "metadata": {
      "needs_background": "light"
     },
     "output_type": "display_data"
    }
   ],
   "source": [
    "fig = plt.figure(figsize=[12,8],dpi=100)\n",
    "plt.vlines(x=7, ymax=1, ymin=0, colors=\"r\", linestyles=\"--\")\n",
    "plt.hlines(y=0.95, xmax=12, xmin=0, colors=\"g\", linestyles=\"--\")\n",
    "plt.plot(var_cumu)\n",
    "plt.ylabel(\"Cumulative variance explained\")\n",
    "plt.show()"
   ]
  },
  {
   "cell_type": "markdown",
   "metadata": {},
   "source": [
    "## 3 Recommendation"
   ]
  },
  {
   "cell_type": "markdown",
   "metadata": {},
   "source": [
    "### Popularity Recommendation"
   ]
  },
  {
   "cell_type": "code",
   "execution_count": 41,
   "metadata": {},
   "outputs": [
    {
     "data": {
      "text/html": [
       "<div>\n",
       "<style scoped>\n",
       "    .dataframe tbody tr th:only-of-type {\n",
       "        vertical-align: middle;\n",
       "    }\n",
       "\n",
       "    .dataframe tbody tr th {\n",
       "        vertical-align: top;\n",
       "    }\n",
       "\n",
       "    .dataframe thead th {\n",
       "        text-align: right;\n",
       "    }\n",
       "</style>\n",
       "<table border=\"1\" class=\"dataframe\">\n",
       "  <thead>\n",
       "    <tr style=\"text-align: right;\">\n",
       "      <th></th>\n",
       "      <th>art galleries</th>\n",
       "      <th>dance clubs</th>\n",
       "      <th>juice bars</th>\n",
       "      <th>restaurants</th>\n",
       "      <th>museums</th>\n",
       "      <th>resorts</th>\n",
       "      <th>parks/picnic spots</th>\n",
       "      <th>beaches</th>\n",
       "      <th>theaters</th>\n",
       "      <th>religious institutions</th>\n",
       "      <th>K-Means_Cluster_ID</th>\n",
       "    </tr>\n",
       "    <tr>\n",
       "      <th>User ID</th>\n",
       "      <th></th>\n",
       "      <th></th>\n",
       "      <th></th>\n",
       "      <th></th>\n",
       "      <th></th>\n",
       "      <th></th>\n",
       "      <th></th>\n",
       "      <th></th>\n",
       "      <th></th>\n",
       "      <th></th>\n",
       "      <th></th>\n",
       "    </tr>\n",
       "  </thead>\n",
       "  <tbody>\n",
       "    <tr>\n",
       "      <td>User 1</td>\n",
       "      <td>0.93</td>\n",
       "      <td>1.80</td>\n",
       "      <td>2.29</td>\n",
       "      <td>0.62</td>\n",
       "      <td>0.80</td>\n",
       "      <td>2.42</td>\n",
       "      <td>3.19</td>\n",
       "      <td>2.79</td>\n",
       "      <td>1.82</td>\n",
       "      <td>2.42</td>\n",
       "      <td>1</td>\n",
       "    </tr>\n",
       "    <tr>\n",
       "      <td>User 3</td>\n",
       "      <td>1.22</td>\n",
       "      <td>0.80</td>\n",
       "      <td>0.54</td>\n",
       "      <td>0.53</td>\n",
       "      <td>0.24</td>\n",
       "      <td>1.54</td>\n",
       "      <td>3.18</td>\n",
       "      <td>2.80</td>\n",
       "      <td>1.31</td>\n",
       "      <td>2.50</td>\n",
       "      <td>0</td>\n",
       "    </tr>\n",
       "    <tr>\n",
       "      <td>User 4</td>\n",
       "      <td>0.45</td>\n",
       "      <td>1.80</td>\n",
       "      <td>0.29</td>\n",
       "      <td>0.57</td>\n",
       "      <td>0.46</td>\n",
       "      <td>1.52</td>\n",
       "      <td>3.18</td>\n",
       "      <td>2.96</td>\n",
       "      <td>1.57</td>\n",
       "      <td>2.86</td>\n",
       "      <td>0</td>\n",
       "    </tr>\n",
       "    <tr>\n",
       "      <td>User 5</td>\n",
       "      <td>0.51</td>\n",
       "      <td>1.20</td>\n",
       "      <td>1.18</td>\n",
       "      <td>0.57</td>\n",
       "      <td>1.54</td>\n",
       "      <td>2.02</td>\n",
       "      <td>3.18</td>\n",
       "      <td>2.78</td>\n",
       "      <td>1.18</td>\n",
       "      <td>2.54</td>\n",
       "      <td>1</td>\n",
       "    </tr>\n",
       "    <tr>\n",
       "      <td>User 6</td>\n",
       "      <td>0.99</td>\n",
       "      <td>1.28</td>\n",
       "      <td>0.72</td>\n",
       "      <td>0.27</td>\n",
       "      <td>0.74</td>\n",
       "      <td>1.26</td>\n",
       "      <td>3.17</td>\n",
       "      <td>2.89</td>\n",
       "      <td>1.66</td>\n",
       "      <td>3.66</td>\n",
       "      <td>0</td>\n",
       "    </tr>\n",
       "  </tbody>\n",
       "</table>\n",
       "</div>"
      ],
      "text/plain": [
       "         art galleries  dance clubs  juice bars  restaurants  museums  \\\n",
       "User ID                                                                 \n",
       "User 1            0.93         1.80        2.29         0.62     0.80   \n",
       "User 3            1.22         0.80        0.54         0.53     0.24   \n",
       "User 4            0.45         1.80        0.29         0.57     0.46   \n",
       "User 5            0.51         1.20        1.18         0.57     1.54   \n",
       "User 6            0.99         1.28        0.72         0.27     0.74   \n",
       "\n",
       "         resorts  parks/picnic spots   beaches  theaters  \\\n",
       "User ID                                                    \n",
       "User 1      2.42                3.19      2.79      1.82   \n",
       "User 3      1.54                3.18      2.80      1.31   \n",
       "User 4      1.52                3.18      2.96      1.57   \n",
       "User 5      2.02                3.18      2.78      1.18   \n",
       "User 6      1.26                3.17      2.89      1.66   \n",
       "\n",
       "         religious institutions  K-Means_Cluster_ID  \n",
       "User ID                                              \n",
       "User 1                     2.42                   1  \n",
       "User 3                     2.50                   0  \n",
       "User 4                     2.86                   0  \n",
       "User 5                     2.54                   1  \n",
       "User 6                     3.66                   0  "
      ]
     },
     "execution_count": 41,
     "metadata": {},
     "output_type": "execute_result"
    }
   ],
   "source": [
    "df_trip_outliers_removed.head()"
   ]
  },
  {
   "cell_type": "code",
   "execution_count": 42,
   "metadata": {},
   "outputs": [
    {
     "data": {
      "text/html": [
       "<div>\n",
       "<style scoped>\n",
       "    .dataframe tbody tr th:only-of-type {\n",
       "        vertical-align: middle;\n",
       "    }\n",
       "\n",
       "    .dataframe tbody tr th {\n",
       "        vertical-align: top;\n",
       "    }\n",
       "\n",
       "    .dataframe thead th {\n",
       "        text-align: right;\n",
       "    }\n",
       "</style>\n",
       "<table border=\"1\" class=\"dataframe\">\n",
       "  <thead>\n",
       "    <tr style=\"text-align: right;\">\n",
       "      <th></th>\n",
       "      <th>K-Means_Cluster_ID</th>\n",
       "      <th>categories</th>\n",
       "      <th>value</th>\n",
       "    </tr>\n",
       "  </thead>\n",
       "  <tbody>\n",
       "    <tr>\n",
       "      <td>0</td>\n",
       "      <td>1</td>\n",
       "      <td>art galleries</td>\n",
       "      <td>0.93</td>\n",
       "    </tr>\n",
       "    <tr>\n",
       "      <td>1</td>\n",
       "      <td>0</td>\n",
       "      <td>art galleries</td>\n",
       "      <td>1.22</td>\n",
       "    </tr>\n",
       "    <tr>\n",
       "      <td>2</td>\n",
       "      <td>0</td>\n",
       "      <td>art galleries</td>\n",
       "      <td>0.45</td>\n",
       "    </tr>\n",
       "    <tr>\n",
       "      <td>3</td>\n",
       "      <td>1</td>\n",
       "      <td>art galleries</td>\n",
       "      <td>0.51</td>\n",
       "    </tr>\n",
       "    <tr>\n",
       "      <td>4</td>\n",
       "      <td>0</td>\n",
       "      <td>art galleries</td>\n",
       "      <td>0.99</td>\n",
       "    </tr>\n",
       "  </tbody>\n",
       "</table>\n",
       "</div>"
      ],
      "text/plain": [
       "   K-Means_Cluster_ID     categories  value\n",
       "0                   1  art galleries   0.93\n",
       "1                   0  art galleries   1.22\n",
       "2                   0  art galleries   0.45\n",
       "3                   1  art galleries   0.51\n",
       "4                   0  art galleries   0.99"
      ]
     },
     "execution_count": 42,
     "metadata": {},
     "output_type": "execute_result"
    }
   ],
   "source": [
    "df_long = pd.melt(df_trip_outliers_removed, \"K-Means_Cluster_ID\", var_name=\"categories\")\n",
    "df_long.head()"
   ]
  },
  {
   "cell_type": "markdown",
   "metadata": {},
   "source": [
    "User 1 belongs to cluster 0 in art galleries catogries and avg rating is 0.93"
   ]
  },
  {
   "cell_type": "code",
   "execution_count": 43,
   "metadata": {},
   "outputs": [
    {
     "data": {
      "text/plain": [
       "categories\n",
       " beaches                  2.833800\n",
       "art galleries             0.873000\n",
       "dance clubs               1.316044\n",
       "juice bars                1.027433\n",
       "museums                   0.922000\n",
       "parks/picnic spots        3.180911\n",
       "religious institutions    2.803422\n",
       "resorts                   1.831767\n",
       "restaurants               0.498689\n",
       "theaters                  1.552122\n",
       "Name: value, dtype: float64"
      ]
     },
     "execution_count": 43,
     "metadata": {},
     "output_type": "execute_result"
    }
   ],
   "source": [
    "df_long.groupby('categories')['value'].mean()"
   ]
  },
  {
   "cell_type": "code",
   "execution_count": 44,
   "metadata": {},
   "outputs": [
    {
     "data": {
      "text/plain": [
       "categories\n",
       " beaches                  900\n",
       "art galleries             900\n",
       "dance clubs               900\n",
       "juice bars                900\n",
       "museums                   900\n",
       "parks/picnic spots        900\n",
       "religious institutions    900\n",
       "resorts                   900\n",
       "restaurants               900\n",
       "theaters                  900\n",
       "Name: value, dtype: int64"
      ]
     },
     "execution_count": 44,
     "metadata": {},
     "output_type": "execute_result"
    }
   ],
   "source": [
    "df_long.groupby('categories')['value'].count()"
   ]
  },
  {
   "cell_type": "code",
   "execution_count": 45,
   "metadata": {},
   "outputs": [],
   "source": [
    "rating_mean_count=pd.DataFrame(df_long.groupby('categories')['value'].mean())"
   ]
  },
  {
   "cell_type": "code",
   "execution_count": 46,
   "metadata": {},
   "outputs": [],
   "source": [
    "rating_mean_count['Rating_count']=pd.DataFrame(df_long.groupby('categories')['value'].count())"
   ]
  },
  {
   "cell_type": "code",
   "execution_count": 47,
   "metadata": {},
   "outputs": [
    {
     "data": {
      "text/html": [
       "<div>\n",
       "<style scoped>\n",
       "    .dataframe tbody tr th:only-of-type {\n",
       "        vertical-align: middle;\n",
       "    }\n",
       "\n",
       "    .dataframe tbody tr th {\n",
       "        vertical-align: top;\n",
       "    }\n",
       "\n",
       "    .dataframe thead th {\n",
       "        text-align: right;\n",
       "    }\n",
       "</style>\n",
       "<table border=\"1\" class=\"dataframe\">\n",
       "  <thead>\n",
       "    <tr style=\"text-align: right;\">\n",
       "      <th></th>\n",
       "      <th>value</th>\n",
       "      <th>Rating_count</th>\n",
       "    </tr>\n",
       "    <tr>\n",
       "      <th>categories</th>\n",
       "      <th></th>\n",
       "      <th></th>\n",
       "    </tr>\n",
       "  </thead>\n",
       "  <tbody>\n",
       "    <tr>\n",
       "      <td>beaches</td>\n",
       "      <td>2.833800</td>\n",
       "      <td>900</td>\n",
       "    </tr>\n",
       "    <tr>\n",
       "      <td>art galleries</td>\n",
       "      <td>0.873000</td>\n",
       "      <td>900</td>\n",
       "    </tr>\n",
       "    <tr>\n",
       "      <td>dance clubs</td>\n",
       "      <td>1.316044</td>\n",
       "      <td>900</td>\n",
       "    </tr>\n",
       "    <tr>\n",
       "      <td>juice bars</td>\n",
       "      <td>1.027433</td>\n",
       "      <td>900</td>\n",
       "    </tr>\n",
       "    <tr>\n",
       "      <td>museums</td>\n",
       "      <td>0.922000</td>\n",
       "      <td>900</td>\n",
       "    </tr>\n",
       "    <tr>\n",
       "      <td>parks/picnic spots</td>\n",
       "      <td>3.180911</td>\n",
       "      <td>900</td>\n",
       "    </tr>\n",
       "    <tr>\n",
       "      <td>religious institutions</td>\n",
       "      <td>2.803422</td>\n",
       "      <td>900</td>\n",
       "    </tr>\n",
       "    <tr>\n",
       "      <td>resorts</td>\n",
       "      <td>1.831767</td>\n",
       "      <td>900</td>\n",
       "    </tr>\n",
       "    <tr>\n",
       "      <td>restaurants</td>\n",
       "      <td>0.498689</td>\n",
       "      <td>900</td>\n",
       "    </tr>\n",
       "    <tr>\n",
       "      <td>theaters</td>\n",
       "      <td>1.552122</td>\n",
       "      <td>900</td>\n",
       "    </tr>\n",
       "  </tbody>\n",
       "</table>\n",
       "</div>"
      ],
      "text/plain": [
       "                           value  Rating_count\n",
       "categories                                    \n",
       " beaches                2.833800           900\n",
       "art galleries           0.873000           900\n",
       "dance clubs             1.316044           900\n",
       "juice bars              1.027433           900\n",
       "museums                 0.922000           900\n",
       "parks/picnic spots      3.180911           900\n",
       "religious institutions  2.803422           900\n",
       "resorts                 1.831767           900\n",
       "restaurants             0.498689           900\n",
       "theaters                1.552122           900"
      ]
     },
     "execution_count": 47,
     "metadata": {},
     "output_type": "execute_result"
    }
   ],
   "source": [
    "rating_mean_count"
   ]
  },
  {
   "cell_type": "code",
   "execution_count": 48,
   "metadata": {},
   "outputs": [
    {
     "data": {
      "text/plain": [
       "categories\n",
       "parks/picnic spots        3.180911\n",
       " beaches                  2.833800\n",
       "religious institutions    2.803422\n",
       "resorts                   1.831767\n",
       "theaters                  1.552122\n",
       "dance clubs               1.316044\n",
       "juice bars                1.027433\n",
       "museums                   0.922000\n",
       "art galleries             0.873000\n",
       "restaurants               0.498689\n",
       "Name: value, dtype: float64"
      ]
     },
     "execution_count": 48,
     "metadata": {},
     "output_type": "execute_result"
    }
   ],
   "source": [
    "rating_mean_count['value'].sort_values(ascending=False)"
   ]
  },
  {
   "cell_type": "markdown",
   "metadata": {},
   "source": [
    "Based on the highest avg rating the top 3 categories are parks/picnic sports(3.18), beaches(2.83)  and religious institutions(2.80)\n",
    "\n",
    "Based on the least avg rating last 3 categories are museums ( 0.922000),art galleries( 0.873000) and restaurants(0.498689)."
   ]
  },
  {
   "cell_type": "markdown",
   "metadata": {},
   "source": [
    "### Recommendation Based On Cluster"
   ]
  },
  {
   "cell_type": "code",
   "execution_count": 49,
   "metadata": {},
   "outputs": [
    {
     "data": {
      "image/png": "[encoded data removed]",
      "text/plain": [
       "<Figure size 4000x2000 with 2 Axes>"
      ]
     },
     "metadata": {
      "needs_background": "light"
     },
     "output_type": "display_data"
    }
   ],
   "source": [
    "fig = plt.figure(figsize=(20,10),dpi=200)\n",
    "for i in range(len(df_long['K-Means_Cluster_ID'].unique())):\n",
    "    plt.subplot(1,len(df_long['K-Means_Cluster_ID'].unique()),i+1)\n",
    "    g = sns.barplot(y='categories',x='value',data=df_long[df_long['K-Means_Cluster_ID']==i],palette='Set3',ci=None,estimator=np.median)\n",
    "#     g.set_xticklabels(g.get_xticklabels(),rotation=90);\n",
    "    g.set_title(f'Review distribution of Cluster#{i}',y=1.02,fontsize=20)\n",
    "#     g.set_xlabel(\"\")\n",
    "    g.set_ylabel('Categories')\n",
    "    g.set_xlim(0,5)\n",
    "fig.tight_layout(pad=0.5)\n",
    "\n",
    "plt.savefig('Review rating of each cluster')"
   ]
  },
  {
   "cell_type": "code",
   "execution_count": 50,
   "metadata": {},
   "outputs": [],
   "source": [
    "Cluster_0=df_long[df_long['K-Means_Cluster_ID']==0]"
   ]
  },
  {
   "cell_type": "code",
   "execution_count": 51,
   "metadata": {},
   "outputs": [
    {
     "data": {
      "text/plain": [
       "categories\n",
       "parks/picnic spots        3.176717\n",
       "religious institutions    2.977711\n",
       " beaches                  2.843002\n",
       "resorts                   1.558161\n",
       "theaters                  1.525028\n",
       "dance clubs               1.252083\n",
       "art galleries             0.875966\n",
       "museums                   0.743827\n",
       "juice bars                0.614934\n",
       "restaurants               0.438555\n",
       "Name: value, dtype: float64"
      ]
     },
     "execution_count": 51,
     "metadata": {},
     "output_type": "execute_result"
    }
   ],
   "source": [
    "Cluster_0.groupby('categories')['value'].mean().sort_values(ascending=False)"
   ]
  },
  {
   "cell_type": "code",
   "execution_count": 52,
   "metadata": {},
   "outputs": [
    {
     "data": {
      "text/plain": [
       "categories\n",
       "parks/picnic spots        3.187003\n",
       " beaches                  2.820436\n",
       "religious institutions    2.550300\n",
       "resorts                   2.229128\n",
       "juice bars                1.626512\n",
       "theaters                  1.591471\n",
       "dance clubs               1.408937\n",
       "museums                   1.180763\n",
       "art galleries             0.868692\n",
       "restaurants               0.586022\n",
       "Name: value, dtype: float64"
      ]
     },
     "execution_count": 52,
     "metadata": {},
     "output_type": "execute_result"
    }
   ],
   "source": [
    "Cluster_1=df_long[df_long['K-Means_Cluster_ID']==1]\n",
    "Cluster_1.groupby('categories')['value'].mean().sort_values(ascending=False)"
   ]
  },
  {
   "cell_type": "markdown",
   "metadata": {},
   "source": [
    "We are comparing both the cluster and we can say that the parks/pinic sports, religious institutions and beaches are mostly visited by user.\n",
    "\n",
    "2).Users of cluster 0 visited museums more than the cluster 1.\n",
    "\n",
    "3). We  observe the avg rating in both the cluster for every category is different.\n",
    "\n"
   ]
  },
  {
   "cell_type": "markdown",
   "metadata": {},
   "source": [
    "### Final Model"
   ]
  },
  {
   "cell_type": "code",
   "execution_count": 53,
   "metadata": {},
   "outputs": [],
   "source": [
    "pca_model=PCA()\n",
    "pca_data=pca_model.fit_transform(X_scaled)\n",
    "\n",
    "X=pca_data\n",
    "y=df_trip_outliers_removed['K-Means_Cluster_ID']"
   ]
  },
  {
   "cell_type": "code",
   "execution_count": 54,
   "metadata": {},
   "outputs": [],
   "source": [
    "from sklearn.model_selection import train_test_split\n",
    "X_train, X_test, y_train, y_test = train_test_split(X, y, test_size = 0.2, random_state = 20)"
   ]
  },
  {
   "cell_type": "code",
   "execution_count": 55,
   "metadata": {},
   "outputs": [],
   "source": [
    "from sklearn.metrics import confusion_matrix\n",
    "from sklearn.metrics import accuracy_score\n",
    "from sklearn.metrics import classification_report"
   ]
  },
  {
   "cell_type": "code",
   "execution_count": 56,
   "metadata": {},
   "outputs": [],
   "source": [
    "from sklearn.discriminant_analysis import LinearDiscriminantAnalysis"
   ]
  },
  {
   "cell_type": "code",
   "execution_count": 57,
   "metadata": {},
   "outputs": [
    {
     "data": {
      "text/plain": [
       "LinearDiscriminantAnalysis()"
      ]
     },
     "execution_count": 57,
     "metadata": {},
     "output_type": "execute_result"
    }
   ],
   "source": [
    "model= LinearDiscriminantAnalysis()\n",
    "model.fit(X_train,y_train)"
   ]
  },
  {
   "cell_type": "code",
   "execution_count": 58,
   "metadata": {},
   "outputs": [
    {
     "data": {
      "text/plain": [
       "array([[95,  2],\n",
       "       [ 8, 75]], dtype=int64)"
      ]
     },
     "execution_count": 58,
     "metadata": {},
     "output_type": "execute_result"
    }
   ],
   "source": [
    "y_pred = model.predict(X_test)\n",
    "cm_LDA= confusion_matrix(y_test, y_pred)\n",
    "cm_LDA"
   ]
  },
  {
   "cell_type": "code",
   "execution_count": 59,
   "metadata": {},
   "outputs": [
    {
     "name": "stdout",
     "output_type": "stream",
     "text": [
      "Accuracy Score: 0.9444444444444444\n"
     ]
    }
   ],
   "source": [
    "ac_LDA = accuracy_score(y_test, y_pred)\n",
    "print(\"Accuracy Score:\", ac_LDA)"
   ]
  },
  {
   "cell_type": "code",
   "execution_count": 60,
   "metadata": {},
   "outputs": [
    {
     "name": "stdout",
     "output_type": "stream",
     "text": [
      "              precision    recall  f1-score   support\n",
      "\n",
      "           0       0.92      0.98      0.95        97\n",
      "           1       0.97      0.90      0.94        83\n",
      "\n",
      "    accuracy                           0.94       180\n",
      "   macro avg       0.95      0.94      0.94       180\n",
      "weighted avg       0.95      0.94      0.94       180\n",
      "\n"
     ]
    }
   ],
   "source": [
    "classification_2=classification_report(y_test,y_pred)\n",
    "print(classification_2)"
   ]
  },
  {
   "cell_type": "code",
   "execution_count": 61,
   "metadata": {},
   "outputs": [
    {
     "data": {
      "text/plain": [
       "RandomForestClassifier(max_depth=4, n_estimators=200, random_state=20)"
      ]
     },
     "execution_count": 61,
     "metadata": {},
     "output_type": "execute_result"
    }
   ],
   "source": [
    "from sklearn.ensemble import RandomForestClassifier\n",
    "\n",
    "\n",
    "ran_model=RandomForestClassifier(random_state=20,n_estimators=200,max_depth=4)\n",
    "ran_model.fit(X_train,y_train)"
   ]
  },
  {
   "cell_type": "code",
   "execution_count": 62,
   "metadata": {},
   "outputs": [
    {
     "data": {
      "text/plain": [
       "array([[96,  1],\n",
       "       [ 0, 83]], dtype=int64)"
      ]
     },
     "execution_count": 62,
     "metadata": {},
     "output_type": "execute_result"
    }
   ],
   "source": [
    "y_pred = ran_model.predict(X_test)\n",
    "\n",
    "from sklearn.metrics import confusion_matrix\n",
    "cm_ran= confusion_matrix(y_test, y_pred)\n",
    "cm_ran"
   ]
  },
  {
   "cell_type": "code",
   "execution_count": 63,
   "metadata": {},
   "outputs": [
    {
     "name": "stdout",
     "output_type": "stream",
     "text": [
      "Accuracy Score: 0.9944444444444445\n"
     ]
    }
   ],
   "source": [
    "acc_ran = accuracy_score(y_test, y_pred)\n",
    "print(\"Accuracy Score:\", acc_ran)"
   ]
  },
  {
   "cell_type": "code",
   "execution_count": 64,
   "metadata": {
    "scrolled": true
   },
   "outputs": [
    {
     "name": "stdout",
     "output_type": "stream",
     "text": [
      "              precision    recall  f1-score   support\n",
      "\n",
      "           0       1.00      0.99      0.99        97\n",
      "           1       0.99      1.00      0.99        83\n",
      "\n",
      "    accuracy                           0.99       180\n",
      "   macro avg       0.99      0.99      0.99       180\n",
      "weighted avg       0.99      0.99      0.99       180\n",
      "\n"
     ]
    }
   ],
   "source": [
    "classification_2=classification_report(y_test,y_pred)\n",
    "print(classification_2)"
   ]
  },
  {
   "cell_type": "code",
   "execution_count": 65,
   "metadata": {},
   "outputs": [],
   "source": [
    "from sklearn.tree import DecisionTreeClassifier\n"
   ]
  },
  {
   "cell_type": "code",
   "execution_count": 66,
   "metadata": {},
   "outputs": [],
   "source": [
    "model1 = DecisionTreeClassifier()\n",
    "model1 = model1.fit(X_train, y_train)"
   ]
  },
  {
   "cell_type": "code",
   "execution_count": 67,
   "metadata": {},
   "outputs": [],
   "source": [
    "ypred = model1.predict(X_test)"
   ]
  },
  {
   "cell_type": "code",
   "execution_count": 68,
   "metadata": {},
   "outputs": [
    {
     "data": {
      "text/plain": [
       "0.9944444444444445"
      ]
     },
     "execution_count": 68,
     "metadata": {},
     "output_type": "execute_result"
    }
   ],
   "source": [
    "accuracy_score(y_test, ypred)"
   ]
  },
  {
   "cell_type": "code",
   "execution_count": 69,
   "metadata": {},
   "outputs": [
    {
     "name": "stdout",
     "output_type": "stream",
     "text": [
      "              precision    recall  f1-score   support\n",
      "\n",
      "           0       1.00      0.99      0.99        97\n",
      "           1       0.99      1.00      0.99        83\n",
      "\n",
      "    accuracy                           0.99       180\n",
      "   macro avg       0.99      0.99      0.99       180\n",
      "weighted avg       0.99      0.99      0.99       180\n",
      "\n"
     ]
    }
   ],
   "source": [
    "classification_3=classification_report(y_test,y_pred)\n",
    "print(classification_3)"
   ]
  },
  {
   "cell_type": "code",
   "execution_count": 70,
   "metadata": {},
   "outputs": [],
   "source": [
    "from sklearn.ensemble import BaggingClassifier  "
   ]
  },
  {
   "cell_type": "code",
   "execution_count": 71,
   "metadata": {},
   "outputs": [],
   "source": [
    "model2 = BaggingClassifier()\n",
    "model2 = model2.fit(X_train, y_train)"
   ]
  },
  {
   "cell_type": "code",
   "execution_count": 72,
   "metadata": {},
   "outputs": [],
   "source": [
    "ypred = model2.predict(X_test)"
   ]
  },
  {
   "cell_type": "code",
   "execution_count": 73,
   "metadata": {},
   "outputs": [
    {
     "data": {
      "text/plain": [
       "0.9944444444444445"
      ]
     },
     "execution_count": 73,
     "metadata": {},
     "output_type": "execute_result"
    }
   ],
   "source": [
    "accuracy_score(y_test, ypred)"
   ]
  },
  {
   "cell_type": "code",
   "execution_count": 74,
   "metadata": {},
   "outputs": [
    {
     "name": "stdout",
     "output_type": "stream",
     "text": [
      "              precision    recall  f1-score   support\n",
      "\n",
      "           0       1.00      0.99      0.99        97\n",
      "           1       0.99      1.00      0.99        83\n",
      "\n",
      "    accuracy                           0.99       180\n",
      "   macro avg       0.99      0.99      0.99       180\n",
      "weighted avg       0.99      0.99      0.99       180\n",
      "\n"
     ]
    }
   ],
   "source": [
    "classification_4=classification_report(y_test,y_pred)\n",
    "print(classification_4)"
   ]
  },
  {
   "cell_type": "code",
   "execution_count": 75,
   "metadata": {},
   "outputs": [],
   "source": [
    "# import the necessary libraries\n",
    "from sklearn.preprocessing import StandardScaler\n",
    "from sklearn.decomposition import PCA\n",
    "from scipy.stats import zscore"
   ]
  },
  {
   "cell_type": "code",
   "execution_count": 76,
   "metadata": {},
   "outputs": [
    {
     "name": "stdout",
     "output_type": "stream",
     "text": [
      "Covariance Matrix \n",
      "%s [[ 3.19747164e+00  1.14603667e-16 -5.31523904e-16  3.97160984e-16\n",
      "   6.24392393e-16  8.44708063e-17  2.09448081e-16  2.07472156e-16\n",
      "   1.08428901e-16 -3.95185059e-18]\n",
      " [ 1.14603667e-16  1.31007131e+00 -1.49577545e-15 -9.87962647e-18\n",
      "   1.17567555e-16  9.53383954e-17 -3.02316570e-16  6.86634040e-17\n",
      "   7.31092359e-17  3.45786926e-17]\n",
      " [-5.31523904e-16 -1.49577545e-15  1.23933862e+00  1.02748115e-16\n",
      "  -7.33068284e-16  5.53259082e-17  1.59061986e-16 -3.95185059e-18\n",
      "   2.17351782e-17 -1.46959444e-17]\n",
      " [ 3.97160984e-16 -9.87962647e-18  1.02748115e-16  1.05522583e+00\n",
      "   6.81694226e-16 -1.38314771e-16  6.52055347e-17  5.33499829e-17\n",
      "   6.91573853e-18 -2.81569354e-17]\n",
      " [ 6.24392393e-16  1.17567555e-16 -7.33068284e-16  6.81694226e-16\n",
      "   8.72525873e-01  2.32171222e-17  3.71473955e-16  1.08675891e-16\n",
      "  -5.75488242e-17 -4.81631790e-17]\n",
      " [ 8.44708063e-17  9.53383954e-17  5.53259082e-17 -1.38314771e-16\n",
      "   2.32171222e-17  8.08716187e-01  3.95185059e-17  8.99046009e-17\n",
      "   8.89166382e-17 -4.79161884e-17]\n",
      " [ 2.09448081e-16 -3.02316570e-16  1.59061986e-16  6.52055347e-17\n",
      "   3.71473955e-16  3.95185059e-17  6.90909530e-01 -1.35103892e-16\n",
      "   2.22291596e-17  1.03736078e-17]\n",
      " [ 2.07472156e-16  6.86634040e-17 -3.95185059e-18  5.33499829e-17\n",
      "   1.08675891e-16  8.99046009e-17 -1.35103892e-16  3.82852821e-01\n",
      "   5.90307682e-17  2.49460568e-17]\n",
      " [ 1.08428901e-16  7.31092359e-17  2.17351782e-17  6.91573853e-18\n",
      "  -5.75488242e-17  8.89166382e-17  2.22291596e-17  5.90307682e-17\n",
      "   3.16033151e-01 -7.23682639e-17]\n",
      " [-3.95185059e-18  3.45786926e-17 -1.46959444e-17 -2.81569354e-17\n",
      "  -4.81631790e-17 -4.79161884e-17  1.03736078e-17  2.49460568e-17\n",
      "  -7.23682639e-17  1.37978512e-01]]\n"
     ]
    }
   ],
   "source": [
    "\n",
    "# covariance matrix\n",
    "cov_matrix = np.cov(pca_data.T)\n",
    "print('Covariance Matrix \\n%s', cov_matrix)"
   ]
  },
  {
   "cell_type": "code",
   "execution_count": 77,
   "metadata": {},
   "outputs": [],
   "source": [
    "eig_vals, eig_vecs = np.linalg.eig(cov_matrix)"
   ]
  },
  {
   "cell_type": "code",
   "execution_count": 78,
   "metadata": {},
   "outputs": [
    {
     "name": "stdout",
     "output_type": "stream",
     "text": [
      "Eigen Vectors \n",
      "%s [[-1.00000000e+00  1.29166840e-18 -3.76301285e-17  7.37123459e-17\n",
      "   6.07203809e-17  2.71444227e-16 -1.85394684e-16  8.35599008e-17\n",
      "  -2.68562132e-16  3.53618476e-17]\n",
      " [-5.80502551e-17  2.42920097e-17 -5.27813323e-16 -4.07663287e-16\n",
      "  -1.00000000e+00  3.11682094e-14  1.00622526e-16 -8.74013949e-17\n",
      "  -2.93698316e-16 -1.33972859e-16]\n",
      " [ 2.62641359e-16  1.43695852e-16 -5.46112064e-16  6.08681889e-16\n",
      "   2.98026668e-14  1.00000000e+00 -8.76483702e-16  5.32973698e-16\n",
      "   1.79837956e-15  1.59184551e-17]\n",
      " [-1.83428207e-16  2.28941134e-16 -8.20227903e-17  1.14665890e-16\n",
      "  -2.59435158e-16 -1.53824211e-16  1.00000000e+00  1.28539510e-16\n",
      "  -2.76155550e-15 -1.03689071e-15]\n",
      " [-2.68373687e-16 -9.78315016e-17 -1.78931603e-16 -6.11257606e-17\n",
      "  -6.33154867e-16 -2.81628571e-15  4.61997094e-15  3.32632500e-15\n",
      "   1.00000000e+00  1.36810097e-15]\n",
      " [-3.53618458e-17 -7.26163342e-17  1.43966050e-16  4.63659925e-16\n",
      "   1.03913092e-16 -5.51786227e-17 -7.92955954e-16 -5.92368006e-16\n",
      "   2.37945724e-15 -1.00000000e+00]\n",
      " [-8.33546794e-17 -3.79661514e-16 -4.79534707e-17 -3.30066737e-16\n",
      "   7.10732529e-16  8.04325277e-17  9.26327713e-17 -1.00000000e+00\n",
      "   3.83981317e-15  1.15418291e-16]\n",
      " [-7.13624258e-17 -2.00052326e-16 -3.22784629e-15 -1.00000000e+00\n",
      "   9.79025123e-18  2.91964281e-16  2.28330688e-16  9.73042435e-17\n",
      "  -1.22748356e-16 -1.67246633e-16]\n",
      " [-3.60250662e-17  1.17619673e-15  1.00000000e+00 -5.34262495e-15\n",
      "  -4.12523634e-16  7.31391766e-16  6.78569997e-18 -1.12347472e-16\n",
      "   3.05414441e-16 -3.50916938e-16]\n",
      " [ 1.18961645e-18  1.00000000e+00 -9.01140654e-16 -1.84551181e-16\n",
      "   1.88655206e-17 -2.91994103e-16 -7.67146349e-17 -2.68885003e-16\n",
      "   2.12902188e-16  6.98917349e-17]]\n",
      "\n",
      " Eigen Values \n",
      "%s [3.19747164 0.13797851 0.31603315 0.38285282 1.31007131 1.23933862\n",
      " 1.05522583 0.69090953 0.87252587 0.80871619]\n"
     ]
    }
   ],
   "source": [
    "print('Eigen Vectors \\n%s', eig_vecs)\n",
    "print('\\n Eigen Values \\n%s', eig_vals)"
   ]
  },
  {
   "cell_type": "code",
   "execution_count": 79,
   "metadata": {},
   "outputs": [
    {
     "name": "stdout",
     "output_type": "stream",
     "text": [
      "Cumulative Variance Explained [ 31.93918893  45.02534566  57.40496141  67.945495    76.661059\n",
      "  84.73923513  91.64065366  95.46492795  98.62174798 100.        ]\n"
     ]
    }
   ],
   "source": [
    "tot = sum(eig_vals)\n",
    "var_exp = [( i /tot ) * 100 for i in sorted(eig_vals, reverse=True)]\n",
    "cum_var_exp = np.cumsum(var_exp)\n",
    "print(\"Cumulative Variance Explained\", cum_var_exp)"
   ]
  },
  {
   "cell_type": "code",
   "execution_count": 80,
   "metadata": {},
   "outputs": [
    {
     "data": {
      "text/plain": [
       "3"
      ]
     },
     "execution_count": 80,
     "metadata": {},
     "output_type": "execute_result"
    }
   ],
   "source": [
    "len(cum_var_exp[cum_var_exp > 95])"
   ]
  },
  {
   "cell_type": "code",
   "execution_count": 81,
   "metadata": {},
   "outputs": [],
   "source": [
    "pca1 = PCA(n_components=3).fit_transform(X_scaled)"
   ]
  },
  {
   "cell_type": "code",
   "execution_count": 82,
   "metadata": {},
   "outputs": [],
   "source": [
    "model_pca = DecisionTreeClassifier()\n",
    "model_pca = model_pca.fit(pca1, y)"
   ]
  },
  {
   "cell_type": "code",
   "execution_count": 83,
   "metadata": {},
   "outputs": [],
   "source": [
    "y_pred = model_pca.predict(pca1)"
   ]
  },
  {
   "cell_type": "code",
   "execution_count": 84,
   "metadata": {},
   "outputs": [
    {
     "data": {
      "text/plain": [
       "1.0"
      ]
     },
     "execution_count": 84,
     "metadata": {},
     "output_type": "execute_result"
    }
   ],
   "source": [
    "accuracy_score(y, y_pred)"
   ]
  },
  {
   "cell_type": "markdown",
   "metadata": {},
   "source": [
    "While comparing all the  model there is  overfitting because accuracy is 1 but if  we consider LDA the accuracy is 0.94 we can say it is a good model."
   ]
  }
 ],
 "metadata": {
  "kernelspec": {
   "display_name": "Python 3",
   "language": "python",
   "name": "python3"
  },
  "language_info": {
   "codemirror_mode": {
    "name": "ipython",
    "version": 3
   },
   "file_extension": ".py",
   "mimetype": "text/x-python",
   "name": "python",
   "nbconvert_exporter": "python",
   "pygments_lexer": "ipython3",
   "version": "3.7.4"
  }
 },
 "nbformat": 4,
 "nbformat_minor": 2
}
